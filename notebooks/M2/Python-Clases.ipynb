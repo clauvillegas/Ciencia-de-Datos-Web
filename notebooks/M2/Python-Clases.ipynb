{
  "nbformat": 4,
  "nbformat_minor": 0,
  "metadata": {
    "colab": {
      "provenance": []
    },
    "kernelspec": {
      "name": "python3",
      "display_name": "Python 3"
    },
    "language_info": {
      "name": "python"
    }
  },
  "cells": [
    {
      "cell_type": "code",
      "execution_count": 1,
      "metadata": {
        "colab": {
          "base_uri": "https://localhost:8080/"
        },
        "id": "4lWFOpX4gQiK",
        "outputId": "ea9643be-e00e-45d4-99b7-9909ed814c9a"
      },
      "outputs": [
        {
          "output_type": "stream",
          "name": "stdout",
          "text": [
            "Ingrese el titulo del libro: 22 Bahnen\n",
            "Ingrese el autor del libro: Caroline Wahl\n",
            "Ingrese el ISBN del libro: 9783126660532\n",
            "Desea continuar? (s/n): n\n",
            "\n",
            "\u001b[4mLos libros de la Biblioteca son:\u001b[0m\n",
            "Título: 22 Bahnen, Autor: Caroline Wahl, ISBN: 9783126660532\n"
          ]
        }
      ],
      "source": [
        "#1. Crea la clase Libro con los atributos privados _titulo, _autor y _isbn (1 punto).\n",
        "class Libro:\n",
        "#2. Define un constructor para Libro que inicialice estos atributos al momento de crear un objeto (1 punto).\n",
        "    def __init__(self, titulo, autor, isbn):\n",
        "        self._titulo = titulo\n",
        "        self._autor = autor\n",
        "        self._isbn = isbn\n",
        "#3. Implementa métodos get_titulo(), get_autor() y get_isbn() para obtener el valor de cada atributo desde fuera de la clase (2 puntos).\n",
        "    def get_titulo(self):\n",
        "        return self._titulo\n",
        "\n",
        "    def get_autor(self):\n",
        "        return self._autor\n",
        "\n",
        "    def get_isbn(self):\n",
        "        return self._isbn\n",
        "#4. Crea un método descripcion() en la clase Libro que retorne una cadena con los detalles del libro en el formato “Título: [titulo], Autor: [autor], ISBN: [isbn]” (2 puntos).\n",
        "    def descripcion(self):\n",
        "        return f\"Título: {self._titulo}, Autor: {self._autor}, ISBN: {self._isbn}\"\n",
        "\n",
        "#5. Crea una clase Biblioteca que permita gestionar una lista de libros. Define un método agregar_libro() para añadir un libro a la biblioteca (1 punto).\n",
        "class Biblioteca:\n",
        "    def __init__(self):\n",
        "        self.libros = []\n",
        "\n",
        "    def agregar_libro(self, libro):\n",
        "        self.libros.append(libro)\n",
        "#6. Define un método mostrar_libro() en Biblioteca que recorra la lista de libros e imprima la descripción de cada libro (2 puntos).\n",
        "    def mostrar_libro(self):\n",
        "        for libro in self.libros:\n",
        "            print(libro.descripcion())\n",
        "\n",
        "# 7. Instancia la clase Biblioteca, crea al menos dos libros y añádelos a la biblioteca. Luego, muestra los detalles de los libros almacenados (1 punto).\n",
        "lista_libros = []\n",
        "\n",
        "while True:\n",
        "    titulo = input(\"Ingrese el titulo del libro: \")\n",
        "    autor = input(\"Ingrese el autor del libro: \")\n",
        "    isbn = input(\"Ingrese el ISBN del libro: \")\n",
        "    salir = input(\"Desea continuar? (s/n): \")\n",
        "    libro = Libro(titulo, autor, isbn)\n",
        "    lista_libros.append(libro)\n",
        "    if salir.lower() == \"n\":\n",
        "        break\n",
        "    print(\"\\n\")\n",
        "\n",
        "\n",
        "\n",
        "biblio = Biblioteca()\n",
        "for libro in lista_libros:\n",
        "  biblio.agregar_libro(libro)\n",
        "\n",
        "print(\"\\n\\033[4mLos libros de la Biblioteca son:\\033[0m\")\n",
        "biblio.mostrar_libro()\n",
        "\n"
      ]
    }
  ]
}