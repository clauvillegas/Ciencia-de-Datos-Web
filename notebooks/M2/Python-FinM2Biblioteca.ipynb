{
  "nbformat": 4,
  "nbformat_minor": 0,
  "metadata": {
    "colab": {
      "provenance": []
    },
    "kernelspec": {
      "name": "python3",
      "display_name": "Python 3"
    },
    "language_info": {
      "name": "python"
    }
  },
  "cells": [
    {
      "cell_type": "markdown",
      "source": [
        "#Libros y Bytes"
      ],
      "metadata": {
        "id": "DJ5DUlBQach-"
      }
    },
    {
      "cell_type": "markdown",
      "source": [
        "##1.- Definir variables básicas y tipos de datos:\n",
        "  * Crea una **lista** que contenga al menos 5 libros\n",
        "  * Cada libro sea un **diccionario**\n",
        "  * Con los siguientes atributos:\n",
        "    * título: cadena de caracteres\n",
        "    * autor: cadena de caracteres\n",
        "    * precio: decimal\n",
        "    * cantidad en stock: entero  "
      ],
      "metadata": {
        "id": "5FrXDMUgbj4y"
      }
    },
    {
      "cell_type": "code",
      "source": [
        "# principales métodos de una lista:\n",
        "# append(): Agrega un elemento al final de la lista.\n",
        "# extend(): Agrega todos los elementos de un iterable (como otra lista) al final de la lista actual.\n",
        "# insert(): Inserta un elemento en un índice específico.\n",
        "# remove(): Elimina la primera aparición de un elemento específico.\n",
        "# pop(): Elimina y devuelve el elemento en un índice específico.\n",
        "# clear(): Elimina todos los elementos de la lista.\n",
        "# index(): Devuelve el índice de la primera aparición de un elemento.\n",
        "# count(): Devuelve el número de veces que un elemento aparece en la lista.\n",
        "# sort(): Ordena la lista en orden ascendente (o descendente si reverse=True).\n",
        "# reverse(): Invierte el orden de la lista.\n",
        "# copy(): Devuelve una copia superficial de la lista."
      ],
      "metadata": {
        "id": "-6TiM5zOdJqR"
      },
      "execution_count": null,
      "outputs": []
    },
    {
      "cell_type": "code",
      "execution_count": 2,
      "metadata": {
        "colab": {
          "base_uri": "https://localhost:8080/"
        },
        "id": "ChWd_yfRaY-8",
        "outputId": "42297587-44be-4dd6-cd02-eb49215fde87"
      },
      "outputs": [
        {
          "output_type": "stream",
          "name": "stdout",
          "text": [
            "*El elemnto ubicado en el índice 2 es: Python\n",
            "El elemento ubicado en el índice 2 es:Python\n",
            "*La cantidad de elementos presentes en la lista es: 5\n",
            "[1, 'M', 'Python', 2.3, False, 'Naranjas']\n",
            "[1, 'M', 'Naranjas', 'Python', 2.3, False, 'Naranjas']\n",
            "[1, 'M', 'Python', 2.3, False, 'Naranjas']\n",
            "[1, 'M', 2.3, False, 'Naranjas']\n",
            "[]\n"
          ]
        }
      ],
      "source": [
        "#        0   1      2       3     4     posiciones en el  índice\n",
        "lista = [1, \"M\", \"Python\", 2.3, False]\n",
        "print(f\"*El elemnto ubicado en el índice 2 es: {lista[2]}\")\n",
        "print(\"El elemento ubicado en el índice 2 es:\" + (lista[2]))\n",
        "\n",
        "largo_lista = len(lista) #nos entrega la cantidad de elementos presentes\n",
        "print(f\"*La cantidad de elementos presentes en la lista es: {largo_lista}\")\n",
        "\n",
        "lista.append(\"Naranjas\") #añadir elemento en la lista\n",
        "print(lista)\n",
        "\n",
        "lista.insert(2,\"Naranjas\") #agrego elemento en un índice específico\n",
        "print(lista)\n",
        "\n",
        "lista.remove(\"Naranjas\") #remueve el primer valor que encuentre igual a Naranjas\n",
        "print(lista)\n",
        "\n",
        "lista.pop(2) #remueve lo que encuentre en el índice 2\n",
        "print(lista)\n",
        "\n",
        "lista.clear() #acá ya me amurré y no quise seguir jugando con la lista, así que la borré\n",
        "print(lista)"
      ]
    },
    {
      "cell_type": "code",
      "source": [
        "# principales métodos de un diccionario:\n",
        "# clear(): Elimina todos los elementos del diccionario.\n",
        "# copy(): Devuelve una copia superficial del diccionario.\n",
        "# fromkeys(keys, value): Crea un nuevo diccionario con las claves especificadas y un valor opcional.\n",
        "# get(key, default): Devuelve el valor de la clave especificada, o el valor por defecto si la clave no se encuentra.\n",
        "# items(): Devuelve una vista de los pares clave-valor del diccionario.\n",
        "# keys(): Devuelve una vista de las claves del diccionario.\n",
        "# pop(key, default): Elimina y devuelve el valor de la clave especificada. Si la clave no se encuentra, devuelve el valor por defecto si se proporciona.\n",
        "# popitem(): Elimina y devuelve un par clave-valor arbitrario (generalmente el último).\n",
        "# setdefault(key, default): Devuelve el valor de la clave especificada. Si la clave no se encuentra, la inserta con el valor por defecto y devuelve ese valor.\n",
        "# update(iterable): Agrega pares clave-valor de un iterable (como otro diccionario) al diccionario actual.\n",
        "# values(): Devuelve una vista de los valores del diccionario."
      ],
      "metadata": {
        "id": "RVefKBeUipgE"
      },
      "execution_count": null,
      "outputs": []
    },
    {
      "cell_type": "code",
      "source": [
        "diccionario = {\"clave1\" : \"valor1\", \"clave2\" : \"valor2\"}\n",
        "print(diccionario)\n",
        "\n",
        "print(diccionario.items())\n",
        "print(diccionario.keys())\n",
        "print(diccionario.values())\n",
        "print(diccionario.get(\"clave1\"))\n",
        "\n",
        "diccionario[\"clave3\"] = \"valor3\"\n",
        "print(diccionario)\n",
        "\n",
        "diccionario.setdefault(\"clave4\", \"valor4\")\n",
        "print(diccionario)\n",
        "\n",
        "\n",
        "\n"
      ],
      "metadata": {
        "colab": {
          "base_uri": "https://localhost:8080/"
        },
        "id": "f3pOSBaZiCBS",
        "outputId": "f4ee7d0e-6b7a-4834-f0bd-0a27914af457"
      },
      "execution_count": null,
      "outputs": [
        {
          "output_type": "stream",
          "name": "stdout",
          "text": [
            "{'clave1': 'valor1', 'clave2': 'valor2'}\n",
            "dict_items([('clave1', 'valor1'), ('clave2', 'valor2')])\n",
            "dict_keys(['clave1', 'clave2'])\n",
            "dict_values(['valor1', 'valor2'])\n",
            "valor1\n",
            "{'clave1': 'valor1', 'clave2': 'valor2', 'clave3': 'valor3'}\n",
            "{'clave1': 'valor1', 'clave2': 'valor2', 'clave3': 'valor3', 'clave4': 'valor4'}\n"
          ]
        }
      ]
    },
    {
      "cell_type": "code",
      "source": [
        "lista_de_iterables = [\n",
        "    [1, 2, 3],  # Lista\n",
        "    {'a': 1, 'b': 2},  # Diccionario\n",
        "    (4, 5, 6),  # Tupla, no permite modificación\n",
        "    {7, 8, 9, 8}   # Set, no admite valores repetidos\n",
        "]\n",
        "\n",
        "print(lista_de_iterables)\n",
        "lista_de_conjunto = lista_de_iterables[3]\n",
        "lista_de_conjunto\n",
        "# lista_de_iterables[2].append(1)"
      ],
      "metadata": {
        "colab": {
          "base_uri": "https://localhost:8080/"
        },
        "id": "uXfJVqoal1nh",
        "outputId": "09d4a7f1-91f4-473f-b96c-571e2347f2dc"
      },
      "execution_count": 12,
      "outputs": [
        {
          "output_type": "stream",
          "name": "stdout",
          "text": [
            "[[1, 2, 3], {'a': 1, 'b': 2}, (4, 5, 6), {8, 9, 7}]\n"
          ]
        },
        {
          "output_type": "execute_result",
          "data": {
            "text/plain": [
              "{7, 8, 9}"
            ]
          },
          "metadata": {},
          "execution_count": 12
        }
      ]
    },
    {
      "cell_type": "code",
      "source": [
        "#Crea una lista que tenga al menos 5 libros, con cada libro como diccionario\n",
        "libros_programacion =  [\n",
        "    {\"título\": \"Python Básico\", \"autor\": \"Aquiles Baeza\", \"precio\": 25.99, \"stock\": 50},\n",
        "    {\"título\": \"Data Science\", \"autor\": \"Ana Gómez\", \"precio\": 35.50, \"stock\": 30},\n",
        "    {\"título\": \"Web Development\", \"autor\": \"Carlos Pérez\", \"precio\": 29.99, \"stock\": 71},\n",
        "    {\"título\": \"Machine Learning\", \"autor\": \"Luis Fernández\", \"precio\": 39.99, \"stock\": 5},\n",
        "    {\"título\": \"Cloud Computing\", \"autor\": \"Erasmo Flowers\", \"precio\": 22.00, \"stock\": 45},\n",
        "    {\"título\": \"JavaScript\", \"autor\": \"Evaristo Páramos\", \"precio\": 25.99, \"stock\": 0},\n",
        "]\n",
        "\n",
        "libros_poesia_chilena = [\n",
        "    {\"título\": \"Altazor\", \"autor\": \"Vicente Huidobro\", \"precio\": 22.00, \"stock\": 72},\n",
        "    {\"título\": \"Canto General\", \"autor\": \"Pablo Neruda\", \"precio\": 20.00, \"stock\": 0},\n",
        "    {\"título\": \"Antología personal\", \"autor\": \"Nicanor Parra\", \"precio\": 17.50, \"stock\": 5},\n",
        "    {\"título\": \"La cueca sola\", \"autor\": \"Violeta Parra\", \"precio\": 14.00, \"stock\": 22},\n",
        "    {\"título\": \"Epopeya de las comidas y bebidas de Chile\", \"autor\": \"Pablo de Rokha\", \"precio\": 25.00, \"stock\": 10},\n",
        "    {\"título\": \"Antología de Poesía Chilena\", \"autor\": \"Eduardo Anguita\", \"precio\": 30.00, \"stock\": 15},\n",
        "    {\"título\": \"La pieza oscura y otros poemas\", \"autor\": \"Enrique Lihn\", \"precio\": 28.00, \"stock\": 5}\n",
        "]\n",
        "\n",
        "biblioteca = libros_programacion.copy() #copiar el original\n",
        "biblioteca.extend(libros_poesia_chilena) #agregando otra lista\n",
        "print(libros_programacion)\n",
        "for libro in biblioteca:\n",
        "  print(libro)\n",
        "print(biblioteca)\n",
        "type(biblioteca)\n",
        "\n"
      ],
      "metadata": {
        "id": "U88kSMPIpU22",
        "colab": {
          "base_uri": "https://localhost:8080/"
        },
        "outputId": "020f7867-cea5-494b-d7c4-7fe442935c07"
      },
      "execution_count": 13,
      "outputs": [
        {
          "output_type": "stream",
          "name": "stdout",
          "text": [
            "[{'título': 'Python Básico', 'autor': 'Aquiles Baeza', 'precio': 25.99, 'stock': 50}, {'título': 'Data Science', 'autor': 'Ana Gómez', 'precio': 35.5, 'stock': 30}, {'título': 'Web Development', 'autor': 'Carlos Pérez', 'precio': 29.99, 'stock': 71}, {'título': 'Machine Learning', 'autor': 'Luis Fernández', 'precio': 39.99, 'stock': 5}, {'título': 'Cloud Computing', 'autor': 'Erasmo Flowers', 'precio': 22.0, 'stock': 45}, {'título': 'JavaScript', 'autor': 'Evaristo Páramos', 'precio': 25.99, 'stock': 0}]\n",
            "{'título': 'Python Básico', 'autor': 'Aquiles Baeza', 'precio': 25.99, 'stock': 50}\n",
            "{'título': 'Data Science', 'autor': 'Ana Gómez', 'precio': 35.5, 'stock': 30}\n",
            "{'título': 'Web Development', 'autor': 'Carlos Pérez', 'precio': 29.99, 'stock': 71}\n",
            "{'título': 'Machine Learning', 'autor': 'Luis Fernández', 'precio': 39.99, 'stock': 5}\n",
            "{'título': 'Cloud Computing', 'autor': 'Erasmo Flowers', 'precio': 22.0, 'stock': 45}\n",
            "{'título': 'JavaScript', 'autor': 'Evaristo Páramos', 'precio': 25.99, 'stock': 0}\n",
            "{'título': 'Altazor', 'autor': 'Vicente Huidobro', 'precio': 22.0, 'stock': 72}\n",
            "{'título': 'Canto General', 'autor': 'Pablo Neruda', 'precio': 20.0, 'stock': 0}\n",
            "{'título': 'Antología personal', 'autor': 'Nicanor Parra', 'precio': 17.5, 'stock': 5}\n",
            "{'título': 'La cueca sola', 'autor': 'Violeta Parra', 'precio': 14.0, 'stock': 22}\n",
            "{'título': 'Epopeya de las comidas y bebidas de Chile', 'autor': 'Pablo de Rokha', 'precio': 25.0, 'stock': 10}\n",
            "{'título': 'Antología de Poesía Chilena', 'autor': 'Eduardo Anguita', 'precio': 30.0, 'stock': 15}\n",
            "{'título': 'La pieza oscura y otros poemas', 'autor': 'Enrique Lihn', 'precio': 28.0, 'stock': 5}\n",
            "[{'título': 'Python Básico', 'autor': 'Aquiles Baeza', 'precio': 25.99, 'stock': 50}, {'título': 'Data Science', 'autor': 'Ana Gómez', 'precio': 35.5, 'stock': 30}, {'título': 'Web Development', 'autor': 'Carlos Pérez', 'precio': 29.99, 'stock': 71}, {'título': 'Machine Learning', 'autor': 'Luis Fernández', 'precio': 39.99, 'stock': 5}, {'título': 'Cloud Computing', 'autor': 'Erasmo Flowers', 'precio': 22.0, 'stock': 45}, {'título': 'JavaScript', 'autor': 'Evaristo Páramos', 'precio': 25.99, 'stock': 0}, {'título': 'Altazor', 'autor': 'Vicente Huidobro', 'precio': 22.0, 'stock': 72}, {'título': 'Canto General', 'autor': 'Pablo Neruda', 'precio': 20.0, 'stock': 0}, {'título': 'Antología personal', 'autor': 'Nicanor Parra', 'precio': 17.5, 'stock': 5}, {'título': 'La cueca sola', 'autor': 'Violeta Parra', 'precio': 14.0, 'stock': 22}, {'título': 'Epopeya de las comidas y bebidas de Chile', 'autor': 'Pablo de Rokha', 'precio': 25.0, 'stock': 10}, {'título': 'Antología de Poesía Chilena', 'autor': 'Eduardo Anguita', 'precio': 30.0, 'stock': 15}, {'título': 'La pieza oscura y otros poemas', 'autor': 'Enrique Lihn', 'precio': 28.0, 'stock': 5}]\n"
          ]
        },
        {
          "output_type": "execute_result",
          "data": {
            "text/plain": [
              "list"
            ]
          },
          "metadata": {},
          "execution_count": 13
        }
      ]
    },
    {
      "cell_type": "markdown",
      "source": [
        "##2.-Control de Flujo\n",
        "\n",
        "* Implementar una función llamada mostrar_libros_disponibles()\n",
        "* Debe recorrer la lista de libros y mostrar los libros que tienen más de una unidad\n",
        "* utilizar sentencia for y condicón if"
      ],
      "metadata": {
        "id": "n9qFSTeurt8h"
      }
    },
    {
      "cell_type": "markdown",
      "source": [
        "###Ciclo for"
      ],
      "metadata": {
        "id": "TSkLJEQDy26c"
      }
    },
    {
      "cell_type": "code",
      "source": [
        "# Iterar sobre una lista\n",
        "        #     0           1         2\n",
        "frutas = [\"manzana\", \"banana\", \"cereza\"]\n",
        "for fruta in frutas:\n",
        "  print(fruta)\n",
        "\n",
        "for indice, fruta in enumerate(frutas):\n",
        "  print(f\"Índice: {indice}, Fruta: {fruta}\")\n",
        "\n",
        "# Iterar sobre una cadena\n",
        "for caracter in \"Python\":\n",
        "  print(caracter)\n",
        "\n",
        "# Iterar sobre un rango de números\n",
        "for i in range(10): # range(3) genera números del 0 al 2\n",
        "  print(i+1)\n",
        "\n"
      ],
      "metadata": {
        "colab": {
          "base_uri": "https://localhost:8080/"
        },
        "id": "mkHoMtxfy9vf",
        "outputId": "06196e64-72d6-403e-d004-5ff5b4ca56d1"
      },
      "execution_count": 9,
      "outputs": [
        {
          "output_type": "stream",
          "name": "stdout",
          "text": [
            "manzana\n",
            "banana\n",
            "cereza\n",
            "Índice: 0, Fruta: manzana\n",
            "Índice: 1, Fruta: banana\n",
            "Índice: 2, Fruta: cereza\n",
            "P\n",
            "y\n",
            "t\n",
            "h\n",
            "o\n",
            "n\n",
            "1\n",
            "2\n",
            "3\n",
            "4\n",
            "5\n",
            "6\n",
            "7\n",
            "8\n",
            "9\n",
            "10\n"
          ]
        }
      ]
    },
    {
      "cell_type": "markdown",
      "source": [
        "###Condicional if, elif, else"
      ],
      "metadata": {
        "id": "2_rmum8hzG4p"
      }
    },
    {
      "cell_type": "code",
      "source": [
        "score = 65\n",
        "\n",
        "if score >= 90: #si esta  condición es verdadera, entra acá, de no serlo, continúa  hacia abajo\n",
        "  print(\"Tienes una A\")\n",
        "elif score >= 80:\n",
        "  print(\"Tienes una B\")\n",
        "elif score >= 70:\n",
        "  print(\"Tienes una C\")\n",
        "else:\n",
        "  print(\"Necesitas mejorar\")\n",
        "\n",
        "if score<= 90 and score > 80:\n",
        "  print(\"Tienes una B\")"
      ],
      "metadata": {
        "colab": {
          "base_uri": "https://localhost:8080/"
        },
        "id": "ert0I89PzGVt",
        "outputId": "7bcadd83-ab0d-491d-d781-5a47dbe14698"
      },
      "execution_count": 14,
      "outputs": [
        {
          "output_type": "stream",
          "name": "stdout",
          "text": [
            "Necesitas mejorar\n"
          ]
        }
      ]
    },
    {
      "cell_type": "markdown",
      "source": [
        "###Volviendo a la resolución del problema"
      ],
      "metadata": {
        "id": "P9NsKLbZ0yBU"
      }
    },
    {
      "cell_type": "code",
      "source": [
        "libros_disponibles_global = []\n",
        "\n",
        "for libro in libros_programacion:\n",
        "  if libro[\"stock\"] > 0:\n",
        "    libros_disponibles_global.append(libro)\n",
        "    print(libro)\n",
        "\n",
        "for libro in libros_poesia_chilena:\n",
        "  if libro[\"stock\"] > 0:\n",
        "    libros_disponibles_global.append(libro)\n",
        "    print(libro)\n",
        "\n",
        "for libro in libros_poesia_chilena:\n",
        "  if libro[\"stock\"] > 0:\n",
        "    libros_disponibles_global.append(libro)\n",
        "    print(libro)\n",
        "\n",
        "\n",
        "#problema, cada vez que quiera imprimir un listado de libros, debo volver a escribir un ciclo for y utilizar el condicional if...\n",
        "#hacerlo de esa manera me da flojera y es poco eficiente\n",
        "#además que duplica los valores, me debe mostrar la información de cada libro, pero no duplicarlos"
      ],
      "metadata": {
        "colab": {
          "base_uri": "https://localhost:8080/"
        },
        "id": "J6gUI3a-sPwz",
        "outputId": "b94e001c-84cf-4512-e9b5-5ead3084e7b1"
      },
      "execution_count": null,
      "outputs": [
        {
          "output_type": "stream",
          "name": "stdout",
          "text": [
            "{'título': 'Python Básico', 'autor': 'Aquiles Baeza', 'precio': 25.99, 'stock': 50}\n",
            "{'título': 'Data Science', 'autor': 'Ana Gómez', 'precio': 35.5, 'stock': 30}\n",
            "{'título': 'Web Development', 'autor': 'Carlos Pérez', 'precio': 29.99, 'stock': 71}\n",
            "{'título': 'Machine Learning', 'autor': 'Luis Fernández', 'precio': 39.99, 'stock': 5}\n",
            "{'título': 'Cloud Computing', 'autor': 'Erasmo Flowers', 'precio': 22.0, 'stock': 45}\n",
            "{'título': 'Altazor', 'autor': 'Vicente Huidobro', 'precio': 22.0, 'stock': 72}\n",
            "{'título': 'Antología personal', 'autor': 'Nicanor Parra', 'precio': 17.5, 'stock': 5}\n",
            "{'título': 'La cueca sola', 'autor': 'Violeta Parra', 'precio': 14.0, 'stock': 22}\n",
            "{'título': 'Epopeya de las comidas y bebidas de Chile', 'autor': 'Pablo de Rokha', 'precio': 25.0, 'stock': 10}\n",
            "{'título': 'Antología de Poesía Chilena', 'autor': 'Eduardo Anguita', 'precio': 30.0, 'stock': 15}\n",
            "{'título': 'La pieza oscura y otros poemas', 'autor': 'Enrique Lihn', 'precio': 28.0, 'stock': 5}\n",
            "{'título': 'Altazor', 'autor': 'Vicente Huidobro', 'precio': 22.0, 'stock': 72}\n",
            "{'título': 'Antología personal', 'autor': 'Nicanor Parra', 'precio': 17.5, 'stock': 5}\n",
            "{'título': 'La cueca sola', 'autor': 'Violeta Parra', 'precio': 14.0, 'stock': 22}\n",
            "{'título': 'Epopeya de las comidas y bebidas de Chile', 'autor': 'Pablo de Rokha', 'precio': 25.0, 'stock': 10}\n",
            "{'título': 'Antología de Poesía Chilena', 'autor': 'Eduardo Anguita', 'precio': 30.0, 'stock': 15}\n",
            "{'título': 'La pieza oscura y otros poemas', 'autor': 'Enrique Lihn', 'precio': 28.0, 'stock': 5}\n"
          ]
        }
      ]
    },
    {
      "cell_type": "code",
      "source": [
        "#solución: utilizar una función que pueda invocar a mi voluntad y pasarle el listado de libros que yo requiera\n",
        "#ventajas: escribo la funcion una sola vez, y la puedo invocar las veces que yo quiera\n",
        "\n",
        "#sintaxis: toda función comienza con def\n",
        "#luego viene el nombre de la función\n",
        "#y luego entre paréntesis el o los parámetros requeridos\n",
        "\n",
        "#existen funciones que no requieren parámetros\n",
        "def saludar():\n",
        "  \"\"\"Esta función saluda\"\"\"\n",
        "  print(f\"¡Hola!\")\n",
        "\n",
        "# Llamar a la función\n",
        "saludar()\n",
        "\n",
        "#con un parámetro\n",
        "def saludar(nombre):\n",
        "  \"\"\"Esta función saluda a la persona pasada como parámetro\"\"\"\n",
        "  print(f\"¡Hola, {nombre}!\")\n",
        "\n",
        "# Llamar a la función\n",
        "saludar(\"Juan\")\n",
        "\n",
        "#con dos  parámetros\n",
        "def saludar(nombre, edad):\n",
        "  \"\"\"Esta función saluda a la persona pasada como parámetro y le dice la edad pasada como parámetro\"\"\"\n",
        "  print(f\"¡Hola, {nombre}! Tienes {edad} años.\")\n",
        "\n",
        "# Llamar a la función\n",
        "saludar(\"Juan\", 30)\n",
        "\n",
        "\n",
        "\n"
      ],
      "metadata": {
        "colab": {
          "base_uri": "https://localhost:8080/"
        },
        "id": "N7oZJX7rvICH",
        "outputId": "4a1ab14b-8165-4751-c256-4744b8baa5b5"
      },
      "execution_count": null,
      "outputs": [
        {
          "output_type": "stream",
          "name": "stdout",
          "text": [
            "¡Hola!\n",
            "¡Hola, Juan!\n",
            "¡Hola, Juan! Tienes 30 años.\n"
          ]
        }
      ]
    },
    {
      "cell_type": "code",
      "source": [
        "# libros_disponibles = []     #veamos las diferencias entre usar variables globales y locales\n",
        "\n",
        "def mostrar_libros_disponibles(lista_libros):\n",
        "\n",
        "  libros_disponibles = []\n",
        "  for libro in lista_libros:\n",
        "    if libro[\"stock\"] > 0:\n",
        "      libros_disponibles.append(libro)\n",
        "  return libros_disponibles\n",
        "\n",
        "mostrar_libros_disponibles(libros_programacion)\n",
        "mostrar_libros_disponibles(libros_programacion)\n",
        "mostrar_libros_disponibles(libros_programacion)\n",
        "\n",
        "for libro in mostrar_libros_disponibles(libros_programacion):\n",
        "  print(libro)\n",
        "\n",
        "\n",
        "\n",
        "\n"
      ],
      "metadata": {
        "id": "wQ8_4ORIyilh",
        "colab": {
          "base_uri": "https://localhost:8080/"
        },
        "outputId": "15f55e56-af4b-4f81-fb7e-812ee9538886"
      },
      "execution_count": 18,
      "outputs": [
        {
          "output_type": "stream",
          "name": "stdout",
          "text": [
            "{'título': 'Python Básico', 'autor': 'Aquiles Baeza', 'precio': 25.99, 'stock': 50}\n",
            "{'título': 'Data Science', 'autor': 'Ana Gómez', 'precio': 35.5, 'stock': 30}\n",
            "{'título': 'Web Development', 'autor': 'Carlos Pérez', 'precio': 29.99, 'stock': 71}\n",
            "{'título': 'Machine Learning', 'autor': 'Luis Fernández', 'precio': 39.99, 'stock': 5}\n",
            "{'título': 'Cloud Computing', 'autor': 'Erasmo Flowers', 'precio': 22.0, 'stock': 45}\n"
          ]
        }
      ]
    },
    {
      "cell_type": "code",
      "source": [
        "mostrar_libros_disponibles(libros_programacion)\n",
        "\n",
        "for libro in mostrar_libros_disponibles(libros_programacion):\n",
        "  print(libro)"
      ],
      "metadata": {
        "colab": {
          "base_uri": "https://localhost:8080/"
        },
        "id": "4dFk4Y3i8O2B",
        "outputId": "e5e63954-dc9b-46dc-a722-1d8d3eea66e1"
      },
      "execution_count": 16,
      "outputs": [
        {
          "output_type": "stream",
          "name": "stdout",
          "text": [
            "{'título': 'Python Básico', 'autor': 'Aquiles Baeza', 'precio': 25.99, 'stock': 50}\n",
            "{'título': 'Data Science', 'autor': 'Ana Gómez', 'precio': 35.5, 'stock': 30}\n",
            "{'título': 'Web Development', 'autor': 'Carlos Pérez', 'precio': 29.99, 'stock': 71}\n",
            "{'título': 'Machine Learning', 'autor': 'Luis Fernández', 'precio': 39.99, 'stock': 5}\n",
            "{'título': 'Cloud Computing', 'autor': 'Erasmo Flowers', 'precio': 22.0, 'stock': 45}\n"
          ]
        }
      ]
    },
    {
      "cell_type": "code",
      "source": [
        "def mostrar_libros_disponibles():\n",
        "\n",
        "  libros_disponibles = []\n",
        "  libros_sin_stock = []\n",
        "  for libro in biblioteca:\n",
        "    if libro[\"stock\"] > 0:\n",
        "      libros_disponibles.append(libro)\n",
        "    else:\n",
        "      libros_sin_stock.append(libro)\n",
        "  print(\"Libros disponibles:\")\n",
        "  for libro in libros_disponibles:\n",
        "    print(f\"- {libro['título']} ({libro['autor']}), ${libro['precio']}, Stock: {libro['stock']}\")\n",
        "  print(\"\\nLibros sin stock:\")\n",
        "  for libro in libros_sin_stock:\n",
        "    print(f\"- {libro['título']} ({libro['autor']}), ${libro['precio']}, Stock: {libro['stock']}\")\n",
        "  return libros_disponibles\n",
        "\n",
        "mostrar_libros_disponibles()\n"
      ],
      "metadata": {
        "colab": {
          "base_uri": "https://localhost:8080/"
        },
        "id": "y_a997U_CTET",
        "outputId": "d0dd9c31-1d76-4222-a094-b1056661961c"
      },
      "execution_count": 21,
      "outputs": [
        {
          "output_type": "stream",
          "name": "stdout",
          "text": [
            "Libros disponibles:\n",
            "- Python Básico (Aquiles Baeza), $25.99, Stock: 50\n",
            "- Data Science (Ana Gómez), $35.5, Stock: 30\n",
            "- Web Development (Carlos Pérez), $29.99, Stock: 71\n",
            "- Machine Learning (Luis Fernández), $39.99, Stock: 5\n",
            "- Cloud Computing (Erasmo Flowers), $22.0, Stock: 45\n",
            "- Altazor (Vicente Huidobro), $22.0, Stock: 72\n",
            "- Antología personal (Nicanor Parra), $17.5, Stock: 5\n",
            "- La cueca sola (Violeta Parra), $14.0, Stock: 22\n",
            "- Epopeya de las comidas y bebidas de Chile (Pablo de Rokha), $25.0, Stock: 10\n",
            "- Antología de Poesía Chilena (Eduardo Anguita), $30.0, Stock: 15\n",
            "- La pieza oscura y otros poemas (Enrique Lihn), $28.0, Stock: 5\n",
            "\n",
            "Libros sin stock:\n",
            "- JavaScript (Evaristo Páramos), $25.99, Stock: 0\n",
            "- Canto General (Pablo Neruda), $20.0, Stock: 0\n",
            "Libros disponibles:\n",
            "- Python Básico (Aquiles Baeza), $25.99, Stock: 50\n",
            "- Data Science (Ana Gómez), $35.5, Stock: 30\n",
            "- Web Development (Carlos Pérez), $29.99, Stock: 71\n",
            "- Machine Learning (Luis Fernández), $39.99, Stock: 5\n",
            "- Cloud Computing (Erasmo Flowers), $22.0, Stock: 45\n",
            "- Altazor (Vicente Huidobro), $22.0, Stock: 72\n",
            "- Antología personal (Nicanor Parra), $17.5, Stock: 5\n",
            "- La cueca sola (Violeta Parra), $14.0, Stock: 22\n",
            "- Epopeya de las comidas y bebidas de Chile (Pablo de Rokha), $25.0, Stock: 10\n",
            "- Antología de Poesía Chilena (Eduardo Anguita), $30.0, Stock: 15\n",
            "- La pieza oscura y otros poemas (Enrique Lihn), $28.0, Stock: 5\n",
            "\n",
            "Libros sin stock:\n",
            "- JavaScript (Evaristo Páramos), $25.99, Stock: 0\n",
            "- Canto General (Pablo Neruda), $20.0, Stock: 0\n"
          ]
        },
        {
          "output_type": "execute_result",
          "data": {
            "text/plain": [
              "list"
            ]
          },
          "metadata": {},
          "execution_count": 21
        }
      ]
    },
    {
      "cell_type": "markdown",
      "source": [
        "##3.- Condiciones y operadores\n",
        "  * Solicitar rango mínimo y máximo de precios\n",
        "  * Utilizar if, elif, else para filtrar los libros ingresados\n",
        "  * Mostrarlos por pantalla"
      ],
      "metadata": {
        "id": "ahaUacp95Irk"
      }
    },
    {
      "cell_type": "code",
      "source": [
        "minimo = float(input(\"Ingrese el precio mínimo: \")) #con input solicitamos un valor y luego lo convertimos a float (decimal)\n",
        "maximo = float(input(\"Ingrese el precio máximo: \"))\n",
        "\n",
        "for libro in libros_programacion:\n",
        "  if libro[\"precio\"] >= minimo and libro[\"precio\"] <= maximo:  #and, se deben cumplir ambas condiciones para que entre\n",
        "    # print(libro)\n",
        "    print(f\"- {libro['título']} ({libro['autor']}), ${libro['precio']}, Stock: {libro['stock']}\") #sólo estoy imprimiendo, no estoy guardando los libros filtrados\n",
        "\n",
        "\n",
        "# for libro in libros_programacion:\n",
        "#   if libro[\"precio\"] >= minimo:\n",
        "#     if libro[\"precio\"] <= maximo:\n",
        "#       print(f\"- {libro['título']} ({libro['autor']}), ${libro['precio']}, Stock: {libro['stock']}\")\n",
        "\n",
        "print(\"\\n\")\n",
        "for libro in libros_programacion:\n",
        "    print(libro)"
      ],
      "metadata": {
        "colab": {
          "base_uri": "https://localhost:8080/"
        },
        "id": "gbPpo_xO6sYC",
        "outputId": "f6029614-469a-4c82-96e5-761fae1de19f"
      },
      "execution_count": 22,
      "outputs": [
        {
          "output_type": "stream",
          "name": "stdout",
          "text": [
            "Ingrese el precio mínimo: 5\n",
            "Ingrese el precio máximo: 25\n",
            "- Cloud Computing (Erasmo Flowers), $22.0, Stock: 45\n",
            "\n",
            "\n",
            "{'título': 'Python Básico', 'autor': 'Aquiles Baeza', 'precio': 25.99, 'stock': 50}\n",
            "{'título': 'Data Science', 'autor': 'Ana Gómez', 'precio': 35.5, 'stock': 30}\n",
            "{'título': 'Web Development', 'autor': 'Carlos Pérez', 'precio': 29.99, 'stock': 71}\n",
            "{'título': 'Machine Learning', 'autor': 'Luis Fernández', 'precio': 39.99, 'stock': 5}\n",
            "{'título': 'Cloud Computing', 'autor': 'Erasmo Flowers', 'precio': 22.0, 'stock': 45}\n",
            "{'título': 'JavaScript', 'autor': 'Evaristo Páramos', 'precio': 25.99, 'stock': 0}\n"
          ]
        }
      ]
    },
    {
      "cell_type": "code",
      "source": [
        "minimo = float(input(\"Ingrese el precio mínimo: \"))\n",
        "maximo = float(input(\"Ingrese el precio máximo: \"))\n",
        "libros_filtrados_por_precio = []   #acá guardaremos nuestros libros filtrados por precios, de momento es un estante vacío\n",
        "\n",
        "for libro in libros_programacion:\n",
        "  if libro[\"precio\"] >= minimo and libro[\"precio\"] <= maximo:\n",
        "    libros_filtrados_por_precio.append(libro)\n",
        "    # print(libro)\n",
        "    print(f\"- {libro['título']} ({libro['autor']}), ${libro['precio']}, Stock: {libro['stock']}\")\n",
        "\n",
        "\n",
        "print(f\"\\nLibros filtrados por precio:\")\n",
        "for libro in libros_filtrados_por_precio:\n",
        "    print(libro)\n",
        "\n",
        "print(\"\\nLibros de programación de la lista original:\")\n",
        "for libro in libros_programacion:\n",
        "    print(f\"{libro}\")\n",
        "\n"
      ],
      "metadata": {
        "colab": {
          "base_uri": "https://localhost:8080/"
        },
        "id": "X0UpHrbfCulQ",
        "outputId": "b06ddd1b-9796-4a2f-d6a5-f60182d14532"
      },
      "execution_count": 23,
      "outputs": [
        {
          "output_type": "stream",
          "name": "stdout",
          "text": [
            "Ingrese el precio mínimo: 5\n",
            "Ingrese el precio máximo: 22\n",
            "- Cloud Computing (Erasmo Flowers), $22.0, Stock: 45\n",
            "\n",
            "Libros filtrados por precio:\n",
            "{'título': 'Cloud Computing', 'autor': 'Erasmo Flowers', 'precio': 22.0, 'stock': 45}\n",
            "\n",
            "Libros de programación de la lista original:\n",
            "{'título': 'Python Básico', 'autor': 'Aquiles Baeza', 'precio': 25.99, 'stock': 50}\n",
            "{'título': 'Data Science', 'autor': 'Ana Gómez', 'precio': 35.5, 'stock': 30}\n",
            "{'título': 'Web Development', 'autor': 'Carlos Pérez', 'precio': 29.99, 'stock': 71}\n",
            "{'título': 'Machine Learning', 'autor': 'Luis Fernández', 'precio': 39.99, 'stock': 5}\n",
            "{'título': 'Cloud Computing', 'autor': 'Erasmo Flowers', 'precio': 22.0, 'stock': 45}\n",
            "{'título': 'JavaScript', 'autor': 'Evaristo Páramos', 'precio': 25.99, 'stock': 0}\n"
          ]
        }
      ]
    },
    {
      "cell_type": "code",
      "source": [
        "#ahora ocupamos el código del bloque anterior para generar las funciones\n",
        "\n",
        "def consultar_rango_precios():\n",
        "  minimo = float(input(\"Ingrese el precio mínimo: \"))\n",
        "  maximo = float(input(\"Ingrese el precio máximo: \"))\n",
        "\n",
        "  return [minimo, maximo]\n",
        "          #  0       1\n",
        "\n",
        "\n",
        "def filtrar_libros_por_precio(lista_libros, rango_de_precios):\n",
        "    libros_filtrados = []\n",
        "    for libro in lista_libros:\n",
        "        if rango_de_precios[0] <= libro[\"precio\"] <= rango_de_precios[1]:\n",
        "            libros_filtrados.append(libro)\n",
        "    return libros_filtrados\n",
        "\n",
        "# rango = consultar_rango_precios()\n",
        "# libros_filtrados = filtrar_libros_por_precio(libros_programacion, rango)\n",
        "\n",
        "libros_filtrados_por_precio = filtrar_libros_por_precio(libros_programacion, consultar_rango_precios())\n",
        "\n",
        "print(f\"\\nLibros filtrados por precio:\")\n",
        "for libro in libros_filtrados_por_precio:\n",
        "    print(f\"- {libro['título']} ({libro['autor']}), ${libro['precio']}, Stock: {libro['stock']}\")\n",
        "# filtrar_libros_por_precio(libros_programacion, consultar_rango_precios())\n"
      ],
      "metadata": {
        "colab": {
          "base_uri": "https://localhost:8080/"
        },
        "id": "C7tjEpvsAfMK",
        "outputId": "7260f05a-0fcc-4944-9dfd-95c168c2a305"
      },
      "execution_count": 24,
      "outputs": [
        {
          "output_type": "stream",
          "name": "stdout",
          "text": [
            "Ingrese el precio mínimo: 5\n",
            "Ingrese el precio máximo: 22\n",
            "\n",
            "Libros filtrados por precio:\n",
            "- Cloud Computing (Erasmo Flowers), $22.0, Stock: 45\n"
          ]
        }
      ]
    },
    {
      "cell_type": "code",
      "source": [
        "#otra manera de conseguir lo mismo pero usando solo una funcion\n",
        "\n",
        "def filtrar_libros_por_precio_un_arg(lista_libros):\n",
        "    minimo = float(input(\"Ingrese el precio mínimo: \"))\n",
        "    maximo = float(input(\"Ingrese el precio máximo: \"))\n",
        "    libros_filtrados = []\n",
        "    for libro in lista_libros:\n",
        "        if minimo <= libro[\"precio\"] <= maximo:\n",
        "            libros_filtrados.append(libro)\n",
        "    return libros_filtrados\n",
        "\n",
        "libros_filtrados_por_precio = filtrar_libros_por_precio(libros_programacion)\n",
        "\n",
        "print(f\"\\nLibros filtrados por precio:\")\n",
        "for libro in libros_filtrados_por_precio:\n",
        "    print(f\"- {libro['título']} ({libro['autor']}), ${libro['precio']}, Stock: {libro['stock']}\")"
      ],
      "metadata": {
        "colab": {
          "base_uri": "https://localhost:8080/"
        },
        "id": "As6-TiqsPolu",
        "outputId": "4813710f-9622-41ff-9abc-7a79ad054c65"
      },
      "execution_count": null,
      "outputs": [
        {
          "output_type": "stream",
          "name": "stdout",
          "text": [
            "Ingrese el precio mínimo: 22\n",
            "Ingrese el precio máximo: 30\n",
            "\n",
            "Libros filtrados por precio:\n",
            "- Python Básico (Aquiles Baeza), $25.99, Stock: 50\n",
            "- Web Development (Carlos Pérez), $29.99, Stock: 70\n",
            "- Cloud Computing (Erasmo Flowers), $22.0, Stock: 44\n",
            "- JavaScript (Evaristo Páramos), $25.99, Stock: 0\n"
          ]
        }
      ]
    },
    {
      "cell_type": "markdown",
      "source": [],
      "metadata": {
        "id": "GwrOy--Q5Cuw"
      }
    },
    {
      "cell_type": "code",
      "source": [
        "#sin arg\n",
        "def filtrar_libros_por_precio_sin_arg():\n",
        "    minimo = float(input(\"Ingrese el precio mínimo: \"))\n",
        "    maximo = float(input(\"Ingrese el precio máximo: \"))\n",
        "    libros_filtrados = []\n",
        "    for libro in biblioteca:\n",
        "        if minimo <= libro[\"precio\"] <= maximo:\n",
        "            libros_filtrados.append(libro)\n",
        "    return libros_filtrados\n",
        "\n",
        "libros_filtrados_por_precio = filtrar_libros_por_precio_sin_arg()\n",
        "\n",
        "print(f\"\\nLibros filtrados por precio:\")\n",
        "for libro in libros_filtrados_por_precio:\n",
        "    print(f\"- {libro['título']} ({libro['autor']}), ${libro['precio']}, Stock: {libro['stock']}\")"
      ],
      "metadata": {
        "colab": {
          "base_uri": "https://localhost:8080/"
        },
        "id": "f7UAukUxHY3q",
        "outputId": "f28f5c72-4d3c-4a54-c39c-8960040a5529"
      },
      "execution_count": 25,
      "outputs": [
        {
          "output_type": "stream",
          "name": "stdout",
          "text": [
            "Ingrese el precio mínimo: 5\n",
            "Ingrese el precio máximo: 22\n",
            "\n",
            "Libros filtrados por precio:\n",
            "- Cloud Computing (Erasmo Flowers), $22.0, Stock: 45\n",
            "- Altazor (Vicente Huidobro), $22.0, Stock: 72\n",
            "- Canto General (Pablo Neruda), $20.0, Stock: 0\n",
            "- Antología personal (Nicanor Parra), $17.5, Stock: 5\n",
            "- La cueca sola (Violeta Parra), $14.0, Stock: 22\n"
          ]
        }
      ]
    },
    {
      "cell_type": "markdown",
      "source": [
        "##4.- Función personalizada para simular compra\n",
        "\n",
        "  * Crear función comprar_libros(titulo, cantidad)\n",
        "  * Verificar inventario y si la cantidad deseada está disponible\n",
        "  * Si la compra es válida, restar la cantidad comprada al inventario\n",
        "  * Si la cantidad solicitada es mayor al inventario, mostrar mensaje de error (sería mejor mostrar un mensaje que indique cuántas unidades quedan)\n",
        "\n",
        "##6.- Gestión de descuentos\n",
        "\n",
        "  * Diccionario para almacenar descuentos por autor\n",
        "  * Certificar si el autor tiene descuento y aplicarlo a la compra"
      ],
      "metadata": {
        "id": "4sZCytBgqXb3"
      }
    },
    {
      "cell_type": "code",
      "source": [
        "#rústicamente\n",
        "autores_descuentos = {\"Evaristo Páramos\": 0.1, \"Aquiles Baeza\": 0.2, \"Ana Gómez\": 0.4}\n",
        "compras = []\n",
        "\n",
        "\n",
        "def comprar_libros(titulo, cantidad):\n",
        "    descuentos = 0\n",
        "    total_monto_pagado = 0\n",
        "    for libro in biblioteca:\n",
        "        if libro['título'] == titulo:\n",
        "            if libro['stock'] >= cantidad:\n",
        "                libro['stock'] -= cantidad\n",
        "                if libro['autor'] in autores_descuentos:\n",
        "                    valor_descuento = libro['precio'] * autores_descuentos[libro['autor']]\n",
        "                    descuentos += valor_descuento\n",
        "                    precio_unitario = libro['precio'] * (1-valor_descuento)\n",
        "                    total = precio_unitario * cantidad\n",
        "                    total_monto_pagado += total\n",
        "                    compras.append({\"titulo\": titulo,\n",
        "                                    \"cantidad\": cantidad,\n",
        "                                    \"precio_unitario\": precio_unitario,\n",
        "                                    \"total\": total,\n",
        "                                    \"descuento\": valor_descuento})\n",
        "                    print(f\"Compra realizada. Se han comprado {cantidad} unidades de '{titulo}'. Stock restante: {libro['stock']}\")\n",
        "\n",
        "                else:\n",
        "                    valor_descuento = 0\n",
        "                    total = libro['precio'] * cantidad\n",
        "                    total_monto_pagado += total\n",
        "                    compras.append({\"titulo\": titulo,\n",
        "                                    \"cantidad\": cantidad,\n",
        "                                    \"precio_unitario\": libro['precio'],\n",
        "                                    \"total\": total,\n",
        "                                    \"descuento\": valor_descuento})\n",
        "\n",
        "                print(f\"Compra realizada. Se han comprado {cantidad} unidades de '{titulo}'. Stock restante: {libro['stock']}\")\n",
        "            else:\n",
        "                print(f\"No hay suficiente stock de '{titulo}'. Stock disponible: {libro['stock']}\")\n",
        "            return\n",
        "\n",
        "\n",
        "\n",
        "\n",
        "\n",
        "comprar_libros(\"Data Science\", 5)\n",
        "comprar_libros(\"Web Development\", 1)\n",
        "comprar_libros(\"Machine Learning\", 1)\n",
        "comprar_libros(\"Cloud Computing\", 900)\n",
        "comprar_libros(\"JavaScript\", 1)\n",
        "\n",
        "# for libro in libros_programacion:\n",
        "#   print(libro)\n",
        "\n",
        "\n",
        "print(\"\\n\")\n",
        "for compra in compras:\n",
        "  print(compra)\n",
        "\n"
      ],
      "metadata": {
        "colab": {
          "base_uri": "https://localhost:8080/"
        },
        "id": "5BM1E2-oqgI6",
        "outputId": "d5fe3775-968c-46b6-9b7b-6257c74000ec"
      },
      "execution_count": 27,
      "outputs": [
        {
          "output_type": "stream",
          "name": "stdout",
          "text": [
            "Compra realizada. Se han comprado 5 unidades de 'Data Science'. Stock restante: 24\n",
            "Compra realizada. Se han comprado 5 unidades de 'Data Science'. Stock restante: 24\n",
            "Compra realizada. Se han comprado 1 unidades de 'Web Development'. Stock restante: 69\n",
            "Compra realizada. Se han comprado 1 unidades de 'Machine Learning'. Stock restante: 3\n",
            "No hay suficiente stock de 'Cloud Computing'. Stock disponible: 44\n",
            "No hay suficiente stock de 'JavaScript'. Stock disponible: 0\n",
            "\n",
            "\n",
            "{'titulo': 'Data Science', 'cantidad': 5, 'precio_unitario': -468.6, 'total': -2343.0, 'descuento': 14.200000000000001}\n",
            "{'titulo': 'Web Development', 'cantidad': 1, 'precio_unitario': 29.99, 'total': 29.99, 'descuento': 0}\n",
            "{'titulo': 'Machine Learning', 'cantidad': 1, 'precio_unitario': 39.99, 'total': 39.99, 'descuento': 0}\n"
          ]
        }
      ]
    },
    {
      "cell_type": "code",
      "source": [
        "#rústicamente\n",
        "def facturacion():\n",
        "  print(\"Facturación:\")\n",
        "  total = 0\n",
        "  descuentoss = 0\n",
        "  for compra in compras:\n",
        "    total += compra[\"total\"]\n",
        "    descuentoss += compra[\"descuento\"]\n",
        "    print(f\"Título: {compra['titulo']}, Cantidad: {compra['cantidad']}, Precio Unitario: {compra['precio_unitario']}, Total: {compra['total']}, Descuento: {compra['descuento']}\")\n",
        "    print(f\"Tu compra fue por un total de: ${total:.2f}, descuentos por: ${descuentoss:.2f}\")\n",
        "\n",
        "facturacion()"
      ],
      "metadata": {
        "colab": {
          "base_uri": "https://localhost:8080/"
        },
        "id": "P6XcFEN1uiaY",
        "outputId": "b6b44456-a3b5-40a2-fde1-4c2b263963dd"
      },
      "execution_count": 29,
      "outputs": [
        {
          "output_type": "stream",
          "name": "stdout",
          "text": [
            "Facturación:\n",
            "Título: Data Science, Cantidad: 5, Precio Unitario: -468.6, Total: -2343.0, Descuento: 14.200000000000001\n",
            "Tu compra fue por un total de: $-2343.00, descuentos por: $14.20\n",
            "Título: Web Development, Cantidad: 1, Precio Unitario: 29.99, Total: 29.99, Descuento: 0\n",
            "Tu compra fue por un total de: $-2313.01, descuentos por: $14.20\n",
            "Título: Machine Learning, Cantidad: 1, Precio Unitario: 39.99, Total: 39.99, Descuento: 0\n",
            "Tu compra fue por un total de: $-2273.02, descuentos por: $14.20\n"
          ]
        }
      ]
    },
    {
      "cell_type": "markdown",
      "source": [
        "##5.- Bucle While\n",
        "  * Generar un menú"
      ],
      "metadata": {
        "id": "rbPPpgsx_raH"
      }
    },
    {
      "cell_type": "code",
      "source": [
        "while True:\n",
        "  print(\"\\n--- Menú Principal ---\")\n",
        "  print(\"1. Mostrar libros disponibles\")\n",
        "  print(\"2. Filtrar libro por rango de precios\")\n",
        "  print(\"3. Comprar libro\")\n",
        "  print(\"4. Finalizar compra y mostrar factura\")\n",
        "\n",
        "  opcion = input(\"Selecciona una opción: \")\n",
        "\n",
        "  if opcion == \"1\":\n",
        "      mostrar_libros_disponibles()\n",
        "      print(\"\\n--- Libros Disponibles ---\")\n",
        "\n",
        "  elif opcion == \"2\":\n",
        "\n",
        "\n",
        "      filtrar_libros_por_precio_sin_arg()\n",
        "\n",
        "      print(f\"\\nLibros filtrados por precio:\")\n",
        "      for libro in libros_filtrados_por_precio:\n",
        "          print(f\"- {libro['título']} ({libro['autor']}), ${libro['precio']}, Stock: {libro['stock']}\")\n",
        "\n",
        "  elif opcion == \"3\":\n",
        "      titulo = input(\"Título del libro a comprar: \")\n",
        "      cantidad = int(input(\"Cantidad a comprar: \"))\n",
        "      comprar_libros(titulo, cantidad)\n",
        "\n",
        "  elif opcion == \"4\":\n",
        "      facturacion()\n",
        "      break\n",
        "\n",
        "\n"
      ],
      "metadata": {
        "colab": {
          "base_uri": "https://localhost:8080/"
        },
        "id": "iB2hZFaJ4AiS",
        "outputId": "415c2cac-3fd4-4a21-d6bc-a77bc5001ca0"
      },
      "execution_count": 30,
      "outputs": [
        {
          "output_type": "stream",
          "name": "stdout",
          "text": [
            "\n",
            "--- Menú Principal ---\n",
            "1. Mostrar libros disponibles\n",
            "2. Filtrar libro por rango de precios\n",
            "3. Comprar libro\n",
            "4. Finalizar compra y mostrar factura\n",
            "Selecciona una opción: 1\n",
            "Libros disponibles:\n",
            "- Python Básico (Aquiles Baeza), $25.99, Stock: 50\n",
            "- Data Science (Ana Gómez), $35.5, Stock: 24\n",
            "- Web Development (Carlos Pérez), $29.99, Stock: 69\n",
            "- Machine Learning (Luis Fernández), $39.99, Stock: 3\n",
            "- Cloud Computing (Erasmo Flowers), $22.0, Stock: 44\n",
            "- Altazor (Vicente Huidobro), $22.0, Stock: 72\n",
            "- Antología personal (Nicanor Parra), $17.5, Stock: 5\n",
            "- La cueca sola (Violeta Parra), $14.0, Stock: 22\n",
            "- Epopeya de las comidas y bebidas de Chile (Pablo de Rokha), $25.0, Stock: 10\n",
            "- Antología de Poesía Chilena (Eduardo Anguita), $30.0, Stock: 15\n",
            "- La pieza oscura y otros poemas (Enrique Lihn), $28.0, Stock: 5\n",
            "\n",
            "Libros sin stock:\n",
            "- JavaScript (Evaristo Páramos), $25.99, Stock: 0\n",
            "- Canto General (Pablo Neruda), $20.0, Stock: 0\n",
            "\n",
            "--- Libros Disponibles ---\n",
            "\n",
            "--- Menú Principal ---\n",
            "1. Mostrar libros disponibles\n",
            "2. Filtrar libro por rango de precios\n",
            "3. Comprar libro\n",
            "4. Finalizar compra y mostrar factura\n",
            "Selecciona una opción: 2\n",
            "Ingrese el precio mínimo: 14\n",
            "Ingrese el precio máximo: 20\n",
            "\n",
            "Libros filtrados por precio:\n",
            "- Cloud Computing (Erasmo Flowers), $22.0, Stock: 44\n",
            "- Altazor (Vicente Huidobro), $22.0, Stock: 72\n",
            "- Canto General (Pablo Neruda), $20.0, Stock: 0\n",
            "- Antología personal (Nicanor Parra), $17.5, Stock: 5\n",
            "- La cueca sola (Violeta Parra), $14.0, Stock: 22\n",
            "\n",
            "--- Menú Principal ---\n",
            "1. Mostrar libros disponibles\n",
            "2. Filtrar libro por rango de precios\n",
            "3. Comprar libro\n",
            "4. Finalizar compra y mostrar factura\n",
            "Selecciona una opción: 3\n",
            "Título del libro a comprar: Altazor\n",
            "Cantidad a comprar: 5\n",
            "Compra realizada. Se han comprado 5 unidades de 'Altazor'. Stock restante: 67\n",
            "\n",
            "--- Menú Principal ---\n",
            "1. Mostrar libros disponibles\n",
            "2. Filtrar libro por rango de precios\n",
            "3. Comprar libro\n",
            "4. Finalizar compra y mostrar factura\n",
            "Selecciona una opción: 4\n",
            "Facturación:\n",
            "Título: Data Science, Cantidad: 5, Precio Unitario: -468.6, Total: -2343.0, Descuento: 14.200000000000001\n",
            "Tu compra fue por un total de: $-2343.00, descuentos por: $14.20\n",
            "Título: Web Development, Cantidad: 1, Precio Unitario: 29.99, Total: 29.99, Descuento: 0\n",
            "Tu compra fue por un total de: $-2313.01, descuentos por: $14.20\n",
            "Título: Machine Learning, Cantidad: 1, Precio Unitario: 39.99, Total: 39.99, Descuento: 0\n",
            "Tu compra fue por un total de: $-2273.02, descuentos por: $14.20\n",
            "Título: Altazor, Cantidad: 5, Precio Unitario: 22.0, Total: 110.0, Descuento: 0\n",
            "Tu compra fue por un total de: $-2163.02, descuentos por: $14.20\n"
          ]
        }
      ]
    },
    {
      "cell_type": "markdown",
      "source": [
        "##Ejecución final"
      ],
      "metadata": {
        "id": "Hb_4zE5QNPjn"
      }
    },
    {
      "cell_type": "code",
      "source": [
        "#Crea una lista que tenga al menos 5 libros, con cada libro como diccionario\n",
        "libros_programacion =  [\n",
        "    {\"título\": \"Python Básico\", \"autor\": \"Aquiles Baeza\", \"precio\": 25.99, \"stock\": 50},\n",
        "    {\"título\": \"Data Science\", \"autor\": \"Ana Gómez\", \"precio\": 35.50, \"stock\": 30},\n",
        "    {\"título\": \"Web Development\", \"autor\": \"Carlos Pérez\", \"precio\": 29.99, \"stock\": 71},\n",
        "    {\"título\": \"Machine Learning\", \"autor\": \"Luis Fernández\", \"precio\": 39.99, \"stock\": 5},\n",
        "    {\"título\": \"Cloud Computing\", \"autor\": \"Erasmo Flowers\", \"precio\": 22.00, \"stock\": 45},\n",
        "    {\"título\": \"JavaScript\", \"autor\": \"Evaristo Páramos\", \"precio\": 25.99, \"stock\": 0},\n",
        "]\n",
        "\n",
        "libros_poesia_chilena = [\n",
        "    {\"título\": \"Altazor\", \"autor\": \"Vicente Huidobro\", \"precio\": 22.00, \"stock\": 72},\n",
        "    {\"título\": \"Canto General\", \"autor\": \"Pablo Neruda\", \"precio\": 20.00, \"stock\": 0},\n",
        "    {\"título\": \"Antología personal\", \"autor\": \"Nicanor Parra\", \"precio\": 17.50, \"stock\": 5},\n",
        "    {\"título\": \"La cueca sola\", \"autor\": \"Violeta Parra\", \"precio\": 14.00, \"stock\": 22},\n",
        "    {\"título\": \"Epopeya de las comidas y bebidas de Chile\", \"autor\": \"Pablo de Rokha\", \"precio\": 25.00, \"stock\": 10},\n",
        "    {\"título\": \"Antología de Poesía Chilena\", \"autor\": \"Eduardo Anguita\", \"precio\": 30.00, \"stock\": 15},\n",
        "    {\"título\": \"La pieza oscura y otros poemas\", \"autor\": \"Enrique Lihn\", \"precio\": 28.00, \"stock\": 5}\n",
        "]\n",
        "\n",
        "biblioteca = libros_programacion.copy() #copiar el original\n",
        "biblioteca.extend(libros_poesia_chilena) #agregando otra lista\n",
        "\n",
        "\n",
        "#############################################\n",
        "def mostrar_libros_disponibles():\n",
        "\n",
        "  libros_disponibles = []\n",
        "  libros_sin_stock = []\n",
        "  for libro in biblioteca:\n",
        "    if libro[\"stock\"] > 0:\n",
        "      libros_disponibles.append(libro)\n",
        "    else:\n",
        "      libros_sin_stock.append(libro)\n",
        "  print(\"Libros disponibles:\")\n",
        "  for libro in libros_disponibles:\n",
        "    print(f\"- {libro['título']} ({libro['autor']}), ${libro['precio']}, Stock: {libro['stock']}\")\n",
        "  print(\"\\nLibros sin stock:\")\n",
        "  for libro in libros_sin_stock:\n",
        "    print(f\"- {libro['título']} ({libro['autor']}), ${libro['precio']}, Stock: {libro['stock']}\")\n",
        "  return libros_disponibles\n",
        "\n",
        "############################################\n",
        "\n",
        "def filtrar_libros_por_precio_sin_arg():\n",
        "    minimo = float(input(\"Ingrese el precio mínimo: \"))\n",
        "    maximo = float(input(\"Ingrese el precio máximo: \"))\n",
        "    libros_filtrados = []\n",
        "    for libro in biblioteca:\n",
        "        if minimo <= libro[\"precio\"] <= maximo:\n",
        "            libros_filtrados.append(libro)\n",
        "\n",
        "    print(f\"\\nLibros filtrados por precio:\")\n",
        "    for libro in libros_filtrados:\n",
        "        print(f\"- {libro['título']} ({libro['autor']}), ${libro['precio']}, Stock: {libro['stock']}\")\n",
        "    return libros_filtrados\n",
        "\n",
        "#################################################################################\n",
        "autores_descuentos = {\"Evaristo Páramos\": 0.1, \"Aquiles Baeza\": 0.2, \"Ana Gómez\": 0.4}\n",
        "compras = []\n",
        "\n",
        "\n",
        "def comprar_libros(titulo, cantidad):\n",
        "    descuentos = 0\n",
        "    total_monto_pagado = 0\n",
        "    for libro in biblioteca:\n",
        "        if libro['título'] == titulo:\n",
        "            if libro['stock'] >= cantidad:\n",
        "                libro['stock'] -= cantidad\n",
        "                if libro['autor'] in autores_descuentos:\n",
        "                    valor_descuento = libro['precio'] * autores_descuentos[libro['autor']]\n",
        "                    descuentos += valor_descuento\n",
        "                    precio_unitario = libro['precio'] * valor_descuento\n",
        "                    total = precio_unitario * cantidad\n",
        "                    total_monto_pagado += total\n",
        "                    compras.append({\"titulo\": titulo,\n",
        "                                    \"cantidad\": cantidad,\n",
        "                                    \"precio_unitario\": precio_unitario,\n",
        "                                    \"total\": total,\n",
        "                                    \"descuento\": valor_descuento})\n",
        "                    print(f\"Compra realizada. Se han comprado {cantidad} unidades de '{titulo}'. Stock restante: {libro['stock']}\")\n",
        "\n",
        "                else:\n",
        "                    valor_descuento = 0\n",
        "                    total = libro['precio'] * cantidad\n",
        "                    total_monto_pagado += total\n",
        "                    compras.append({\"titulo\": titulo,\n",
        "                                    \"cantidad\": cantidad,\n",
        "                                    \"precio_unitario\": libro['precio'],\n",
        "                                    \"total\": total,\n",
        "                                    \"descuento\": valor_descuento})\n",
        "\n",
        "                print(f\"Compra realizada. Se han comprado {cantidad} unidades de '{titulo}'. Stock restante: {libro['stock']}\")\n",
        "            else:\n",
        "                print(f\"No hay suficiente stock de '{titulo}'. Stock disponible: {libro['stock']}\")\n",
        "            return\n",
        "\n",
        "##################################################################################\n",
        "\n",
        "def facturacion():\n",
        "  print(\"Facturación:\")\n",
        "  total = 0\n",
        "  descuentoss = 0\n",
        "  for compra in compras:\n",
        "    total += compra[\"total\"]\n",
        "    descuentoss += compra[\"descuento\"]\n",
        "    print(f\"Título: {compra['titulo']}, Cantidad: {compra['cantidad']}, Precio Unitario: {compra['precio_unitario']:.2f}, Total: {compra['total']:.2f}, Descuento: {compra['descuento']:.2f}\")\n",
        "    print(f\"Tu compra fue por un total de: ${total:.2f}, descuentos por: ${descuentoss:.2f}\")\n",
        "\n",
        "##########################################################\n",
        "\n",
        "while True:\n",
        "  print(\"\\n--- Menú Principal ---\")\n",
        "  print(\"1. Mostrar libros disponibles\")\n",
        "  print(\"2. Filtrar libro por rango de precios\")\n",
        "  print(\"3. Comprar libro\")\n",
        "  print(\"4. Finalizar compra y mostrar factura\")\n",
        "\n",
        "  opcion = input(\"Selecciona una opción: \")\n",
        "\n",
        "  if opcion == \"1\":\n",
        "      mostrar_libros_disponibles()\n",
        "      print(\"\\n--- Libros Disponibles ---\")\n",
        "\n",
        "  elif opcion == \"2\":\n",
        "\n",
        "\n",
        "      filtrar_libros_por_precio_sin_arg()\n",
        "\n",
        "  elif opcion == \"3\":\n",
        "      titulo = input(\"Título del libro a comprar: \")\n",
        "      cantidad = int(input(\"Cantidad a comprar: \"))\n",
        "      comprar_libros(titulo, cantidad)\n",
        "\n",
        "  elif opcion == \"4\":\n",
        "      facturacion()\n",
        "      break"
      ],
      "metadata": {
        "colab": {
          "base_uri": "https://localhost:8080/"
        },
        "id": "SiAzeJs3NSwW",
        "outputId": "2af48bc4-972c-4e65-e001-d2b51a4e924d"
      },
      "execution_count": 32,
      "outputs": [
        {
          "output_type": "stream",
          "name": "stdout",
          "text": [
            "\n",
            "--- Menú Principal ---\n",
            "1. Mostrar libros disponibles\n",
            "2. Filtrar libro por rango de precios\n",
            "3. Comprar libro\n",
            "4. Finalizar compra y mostrar factura\n",
            "Selecciona una opción: 3\n",
            "Título del libro a comprar: Altazor\n",
            "Cantidad a comprar: 5\n",
            "Compra realizada. Se han comprado 5 unidades de 'Altazor'. Stock restante: 67\n",
            "\n",
            "--- Menú Principal ---\n",
            "1. Mostrar libros disponibles\n",
            "2. Filtrar libro por rango de precios\n",
            "3. Comprar libro\n",
            "4. Finalizar compra y mostrar factura\n",
            "Selecciona una opción: 4\n",
            "Facturación:\n",
            "Título: Altazor, Cantidad: 5, Precio Unitario: 22.00, Total: 110.00, Descuento: 0.00\n",
            "Tu compra fue por un total de: $110.00, descuentos por: $0.00\n"
          ]
        }
      ]
    },
    {
      "cell_type": "code",
      "source": [
        "def mostrar_libros_disponibles():\n",
        "\n",
        "  libros_disponibles = []\n",
        "  libros_sin_stock = []\n",
        "  for libro in biblioteca:\n",
        "    if libro[\"stock\"] > 0:\n",
        "      libros_disponibles.append(libro)\n",
        "    else:\n",
        "      libros_sin_stock.append(libro)\n",
        "  print(\"Libros disponibles:\")\n",
        "  for libro in libros_disponibles:\n",
        "    print(f\"- {libro['título']} ({libro['autor']}), ${libro['precio']}, Stock: {libro['stock']}\")\n",
        "  print(\"\\nLibros sin stock:\")\n",
        "  for libro in libros_sin_stock:\n",
        "    print(f\"- {libro['título']} ({libro['autor']}), ${libro['precio']}, Stock: {libro['stock']}\")\n",
        "  return libros_disponibles\n",
        "\n",
        "\n",
        "type(mostrar_libros_disponibles())"
      ],
      "metadata": {
        "id": "Yf3rMeSUUE3G",
        "outputId": "f268d3e2-3ccb-4bb4-ebf1-f73a498fe192",
        "colab": {
          "base_uri": "https://localhost:8080/"
        }
      },
      "execution_count": null,
      "outputs": [
        {
          "output_type": "stream",
          "name": "stdout",
          "text": [
            "Libros disponibles:\n",
            "- Python Básico (Aquiles Baeza), $25.99, Stock: 50\n",
            "- Data Science (Ana Gómez), $35.5, Stock: 30\n",
            "- Web Development (Carlos Pérez), $29.99, Stock: 71\n",
            "- Machine Learning (Luis Fernández), $39.99, Stock: 5\n",
            "- Cloud Computing (Erasmo Flowers), $22.0, Stock: 45\n",
            "- Altazor (Vicente Huidobro), $22.0, Stock: 67\n",
            "- Antología personal (Nicanor Parra), $17.5, Stock: 5\n",
            "- La cueca sola (Violeta Parra), $14.0, Stock: 22\n",
            "- Epopeya de las comidas y bebidas de Chile (Pablo de Rokha), $25.0, Stock: 10\n",
            "- Antología de Poesía Chilena (Eduardo Anguita), $30.0, Stock: 15\n",
            "- La pieza oscura y otros poemas (Enrique Lihn), $28.0, Stock: 5\n",
            "\n",
            "Libros sin stock:\n",
            "- JavaScript (Evaristo Páramos), $25.99, Stock: 0\n",
            "- Canto General (Pablo Neruda), $20.0, Stock: 0\n"
          ]
        },
        {
          "output_type": "execute_result",
          "data": {
            "text/plain": [
              "list"
            ]
          },
          "metadata": {},
          "execution_count": 74
        }
      ]
    },
    {
      "cell_type": "markdown",
      "source": [
        "##Versión depuradda"
      ],
      "metadata": {
        "id": "xtfEIdXGRmKO"
      }
    },
    {
      "cell_type": "code",
      "source": [
        "# 1. Definir variables básicas y tipos de datos (1 punto)\n",
        "libros_programacion = [\n",
        "    {\"título\": \"Python Básico\", \"autor\": \"Aquiles Baeza\", \"precio\": 25.99, \"stock\": 50},\n",
        "    {\"título\": \"Data Science\", \"autor\": \"Ana Gómez\", \"precio\": 35.50, \"stock\": 30},\n",
        "    {\"título\": \"Web Development\", \"autor\": \"Carlos Pérez\", \"precio\": 29.99, \"stock\": 71},\n",
        "    {\"título\": \"Machine Learning\", \"autor\": \"Luis Fernández\", \"precio\": 39.99, \"stock\": 5},\n",
        "    {\"título\": \"Cloud Computing\", \"autor\": \"Erasmo Flowers\", \"precio\": 22.00, \"stock\": 45},\n",
        "    {\"título\": \"JavaScript\", \"autor\": \"Evaristo Páramos\", \"precio\": 25.99, \"stock\": 0},\n",
        "]\n",
        "\n",
        "libros_poesia_chilena = [\n",
        "    {\"título\": \"Altazor\", \"autor\": \"Vicente Huidobro\", \"precio\": 22.00, \"stock\": 72},\n",
        "    {\"título\": \"Canto General\", \"autor\": \"Pablo Neruda\", \"precio\": 20.00, \"stock\": 0},\n",
        "    {\"título\": \"Antología personal\", \"autor\": \"Nicanor Parra\", \"precio\": 17.50, \"stock\": 5},\n",
        "    {\"título\": \"La cueca sola\", \"autor\": \"Violeta Parra\", \"precio\": 14.00, \"stock\": 22},\n",
        "    {\"título\": \"Epopeya de las comidas y bebidas de Chile\", \"autor\": \"Pablo de Rokha\", \"precio\": 25.00, \"stock\": 10},\n",
        "    {\"título\": \"Antología de Poesía Chilena\", \"autor\": \"Eduardo Anguita\", \"precio\": 30.00, \"stock\": 15},\n",
        "    {\"título\": \"La pieza oscura y otros poemas\", \"autor\": \"Enrique Lihn\", \"precio\": 28.00, \"stock\": 5}\n",
        "]\n",
        "\n",
        "# Unir listas sin modificar originales\n",
        "biblioteca = libros_programacion.copy()\n",
        "biblioteca.extend(libros_poesia_chilena)\n",
        "\n",
        "# Variables globales para compras y descuentos\n",
        "autores_descuentos = {\n",
        "    \"Evaristo Páramos\": 0.10,\n",
        "    \"Aquiles Baeza\": 0.20,\n",
        "    \"Ana Gómez\": 0.40\n",
        "}\n",
        "compras = []\n",
        "\n",
        "\n",
        "# 2. Mostrar libros disponibles (1 punto)\n",
        "def mostrar_libros_disponibles():\n",
        "    print(\"\\n--- Libros Disponibles ---\")\n",
        "    for libro in biblioteca:\n",
        "        if libro[\"stock\"] > 0:\n",
        "            print(f\"{libro['título']} ({libro['autor']}), ${libro['precio']:.2f}, Stock: {libro['stock']}\")\n",
        "    print(\"----------------------------\")\n",
        "\n",
        "\n",
        "# 3. Filtrar libros por rango de precios (1 punto)\n",
        "def filtrar_libros_por_precio_sin_arg():\n",
        "    try:\n",
        "        minimo = float(input(\"Ingrese el precio mínimo: \"))\n",
        "        maximo = float(input(\"Ingrese el precio máximo: \"))\n",
        "    except ValueError:\n",
        "        print(\"Error: Ingrese valores numéricos válidos.\")\n",
        "        return []\n",
        "\n",
        "    libros_filtrados = []\n",
        "    for libro in biblioteca:\n",
        "        if minimo <= libro[\"precio\"] <= maximo and libro[\"stock\"] > 0:\n",
        "            libros_filtrados.append(libro)\n",
        "\n",
        "    print(f\"\\n--- Libros entre ${minimo:.2f} y ${maximo:.2f} ---\")\n",
        "    for libro in libros_filtrados:\n",
        "        print(f\"{libro['título']} ({libro['autor']}), ${libro['precio']:.2f}, Stock: {libro['stock']}\")\n",
        "    return libros_filtrados\n",
        "\n",
        "\n",
        "# 4. Función personalizada para simular una compra (2 puntos)\n",
        "def comprar_libros(titulo, cantidad):\n",
        "    libro_encontrado = None\n",
        "    for libro in biblioteca:\n",
        "        if libro[\"título\"].lower() == titulo.lower():\n",
        "            libro_encontrado = libro\n",
        "            break\n",
        "\n",
        "    if not libro_encontrado:\n",
        "        print(\"❌ Error: El libro no fue encontrado.\")\n",
        "        return\n",
        "\n",
        "    if libro_encontrado[\"stock\"] < cantidad:\n",
        "        print(f\"❌ Error: Solo hay {libro_encontrado['stock']} unidades disponibles.\")\n",
        "        return\n",
        "\n",
        "    # Aplicar descuento por autor\n",
        "    autor = libro_encontrado[\"autor\"]\n",
        "    descuento = autores_descuentos.get(autor, 0)\n",
        "    monto_bruto = libro_encontrado[\"precio\"] * cantidad\n",
        "    monto_descuento = monto_bruto * descuento\n",
        "    total_a_pagar = monto_bruto - monto_descuento\n",
        "\n",
        "    # Actualizar stock\n",
        "    libro_encontrado[\"stock\"] -= cantidad\n",
        "\n",
        "    # Registrar compra\n",
        "    compras.append({\n",
        "        \"titulo\": libro_encontrado[\"título\"],\n",
        "        \"autor\": autor,\n",
        "        \"precio_unitario\": libro_encontrado[\"precio\"],\n",
        "        \"descuento_aplicado\": descuento,\n",
        "        \"monto_descuento\": monto_descuento,\n",
        "        \"cantidad\": cantidad,\n",
        "        \"total\": total_a_pagar\n",
        "    })\n",
        "\n",
        "    print(f\"\\n✅ Compra realizada: {cantidad} x '{libro_encontrado['título']}'\")\n",
        "    print(f\"Autor: {autor}\")\n",
        "    print(f\"Precio unitario: ${libro_encontrado['precio']:.2f}\")\n",
        "    print(f\"Descuento aplicado: {descuento * 100:.0f}%\")\n",
        "    print(f\"Monto total: ${total_a_pagar:.2f}\")\n",
        "    print(f\"Stock restante: {libro_encontrado['stock']}\")\n",
        "\n",
        "\n",
        "# 7. Simulación de una factura (2 puntos)\n",
        "def facturacion():\n",
        "    if not compras:\n",
        "        print(\"⚠️ No has realizado ninguna compra.\")\n",
        "        return\n",
        "\n",
        "    print(\"\\n=== RESUMEN DE COMPRA ===\")\n",
        "    total_comprado = 0\n",
        "    ahorro_total = 0\n",
        "\n",
        "    for i, compra in enumerate(compras, start=1):\n",
        "        print(f\"\\nLibro {i}:\")\n",
        "        print(f\"Título: {compra['titulo']}\")\n",
        "        print(f\"Autor: {compra['autor']}\")\n",
        "        print(f\"Cantidad: {compra['cantidad']}\")\n",
        "        print(f\"Precio Unitario: ${compra['precio_unitario']:.2f}\")\n",
        "        print(f\"Descuento aplicado: {compra['descuento_aplicado'] * 100:.0f}%\")\n",
        "        print(f\"Monto Descuento: ${compra['monto_descuento']:.2f}\")\n",
        "        print(f\"Total: ${compra['total']:.2f}\")\n",
        "\n",
        "        total_comprado += compra[\"total\"]\n",
        "        ahorro_total += compra[\"monto_descuento\"]\n",
        "\n",
        "    print(\"\\n=== FACTURA FINAL ===\")\n",
        "    print(f\"Total de libros comprados: {sum(c['cantidad'] for c in compras)}\")\n",
        "    print(f\"Monto total pagado: ${total_comprado:.2f}\")\n",
        "    print(f\"Ahorro por descuentos: ${ahorro_total:.2f}\")\n",
        "    print(\"Gracias por tu compra 📚\")\n",
        "\n",
        "\n",
        "# 5. Menú interactivo con bucle while (1 punto)\n",
        "while True:\n",
        "    print(\"\\n--- Menú Principal ---\")\n",
        "    print(\"1. Mostrar libros disponibles\")\n",
        "    print(\"2. Filtrar libros por rango de precios\")\n",
        "    print(\"3. Comprar libro\")\n",
        "    print(\"4. Finalizar compra y mostrar factura\")\n",
        "\n",
        "    opcion = input(\"Selecciona una opción: \")\n",
        "\n",
        "    if opcion == \"1\":\n",
        "        mostrar_libros_disponibles()\n",
        "\n",
        "    elif opcion == \"2\":\n",
        "        print(\"\\n--- Filtro de Precios ---\")\n",
        "        filtrar_libros_por_precio_sin_arg()\n",
        "\n",
        "    elif opcion == \"3\":\n",
        "        print(\"\\n--- Comprar Libro ---\")\n",
        "        titulo = input(\"Título del libro: \")\n",
        "        try:\n",
        "            cantidad = int(input(\"Cantidad a comprar: \"))\n",
        "            comprar_libros(titulo, cantidad)\n",
        "        except ValueError:\n",
        "            print(\"Error: La cantidad debe ser un número.\")\n",
        "\n",
        "    elif opcion == \"4\":\n",
        "        facturacion()\n",
        "        print(\"Gracias por usar 'Libros & Bytes'. ¡Hasta pronto!\")\n",
        "        break\n",
        "\n",
        "    else:\n",
        "        print(\"Opción inválida. Por favor, selecciona una opción válida.\")"
      ],
      "metadata": {
        "colab": {
          "base_uri": "https://localhost:8080/"
        },
        "id": "M9UKFFMmApsH",
        "outputId": "64ab0a46-2ce6-4612-edd6-e801ded2aab0"
      },
      "execution_count": null,
      "outputs": [
        {
          "output_type": "stream",
          "name": "stdout",
          "text": [
            "\n",
            "--- Menú Principal ---\n",
            "1. Mostrar libros disponibles\n",
            "2. Filtrar libros por rango de precios\n",
            "3. Comprar libro\n",
            "4. Finalizar compra y mostrar factura\n",
            "Selecciona una opción: 1\n",
            "\n",
            "--- Libros Disponibles ---\n",
            "Python Básico (Aquiles Baeza), $25.99, Stock: 50\n",
            "Data Science (Ana Gómez), $35.50, Stock: 30\n",
            "Web Development (Carlos Pérez), $29.99, Stock: 71\n",
            "Machine Learning (Luis Fernández), $39.99, Stock: 5\n",
            "Cloud Computing (Erasmo Flowers), $22.00, Stock: 45\n",
            "Altazor (Vicente Huidobro), $22.00, Stock: 72\n",
            "Antología personal (Nicanor Parra), $17.50, Stock: 5\n",
            "La cueca sola (Violeta Parra), $14.00, Stock: 22\n",
            "Epopeya de las comidas y bebidas de Chile (Pablo de Rokha), $25.00, Stock: 10\n",
            "Antología de Poesía Chilena (Eduardo Anguita), $30.00, Stock: 15\n",
            "La pieza oscura y otros poemas (Enrique Lihn), $28.00, Stock: 5\n",
            "----------------------------\n",
            "\n",
            "--- Menú Principal ---\n",
            "1. Mostrar libros disponibles\n",
            "2. Filtrar libros por rango de precios\n",
            "3. Comprar libro\n",
            "4. Finalizar compra y mostrar factura\n",
            "Selecciona una opción: 2\n",
            "\n",
            "--- Filtro de Precios ---\n",
            "Ingrese el precio mínimo: a\n",
            "Error: Ingrese valores numéricos válidos.\n",
            "\n",
            "--- Menú Principal ---\n",
            "1. Mostrar libros disponibles\n",
            "2. Filtrar libros por rango de precios\n",
            "3. Comprar libro\n",
            "4. Finalizar compra y mostrar factura\n",
            "Selecciona una opción: 5\n",
            "Opción inválida. Por favor, selecciona una opción válida.\n",
            "\n",
            "--- Menú Principal ---\n",
            "1. Mostrar libros disponibles\n",
            "2. Filtrar libros por rango de precios\n",
            "3. Comprar libro\n",
            "4. Finalizar compra y mostrar factura\n",
            "Selecciona una opción: 2\n",
            "\n",
            "--- Filtro de Precios ---\n",
            "Ingrese el precio mínimo: 20\n",
            "Ingrese el precio máximo: 23\n",
            "\n",
            "--- Libros entre $20.00 y $23.00 ---\n",
            "Cloud Computing (Erasmo Flowers), $22.00, Stock: 45\n",
            "Altazor (Vicente Huidobro), $22.00, Stock: 72\n",
            "\n",
            "--- Menú Principal ---\n",
            "1. Mostrar libros disponibles\n",
            "2. Filtrar libros por rango de precios\n",
            "3. Comprar libro\n",
            "4. Finalizar compra y mostrar factura\n",
            "Selecciona una opción: 3\n",
            "\n",
            "--- Comprar Libro ---\n",
            "Título del libro: altazorr\n",
            "Cantidad a comprar: 5\n",
            "❌ Error: El libro no fue encontrado.\n",
            "\n",
            "--- Menú Principal ---\n",
            "1. Mostrar libros disponibles\n",
            "2. Filtrar libros por rango de precios\n",
            "3. Comprar libro\n",
            "4. Finalizar compra y mostrar factura\n",
            "Selecciona una opción: 3\n",
            "\n",
            "--- Comprar Libro ---\n",
            "Título del libro: altazor\n",
            "Cantidad a comprar: 5\n",
            "\n",
            "✅ Compra realizada: 5 x 'Altazor'\n",
            "Autor: Vicente Huidobro\n",
            "Precio unitario: $22.00\n",
            "Descuento aplicado: 0%\n",
            "Monto total: $110.00\n",
            "Stock restante: 67\n",
            "\n",
            "--- Menú Principal ---\n",
            "1. Mostrar libros disponibles\n",
            "2. Filtrar libros por rango de precios\n",
            "3. Comprar libro\n",
            "4. Finalizar compra y mostrar factura\n",
            "Selecciona una opción: 4\n",
            "\n",
            "=== RESUMEN DE COMPRA ===\n",
            "\n",
            "Libro 1:\n",
            "Título: Altazor\n",
            "Autor: Vicente Huidobro\n",
            "Cantidad: 5\n",
            "Precio Unitario: $22.00\n",
            "Descuento aplicado: 0%\n",
            "Monto Descuento: $0.00\n",
            "Total: $110.00\n",
            "\n",
            "=== FACTURA FINAL ===\n",
            "Total de libros comprados: 5\n",
            "Monto total pagado: $110.00\n",
            "Ahorro por descuentos: $0.00\n",
            "Gracias por tu compra 📚\n",
            "Gracias por usar 'Libros & Bytes'. ¡Hasta pronto!\n"
          ]
        }
      ]
    },
    {
      "cell_type": "code",
      "source": [],
      "metadata": {
        "id": "ZqXEiMFQNOR5"
      },
      "execution_count": null,
      "outputs": []
    }
  ]
}