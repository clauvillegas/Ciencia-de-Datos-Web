{
  "nbformat": 4,
  "nbformat_minor": 0,
  "metadata": {
    "colab": {
      "provenance": []
    },
    "kernelspec": {
      "name": "python3",
      "display_name": "Python 3"
    },
    "language_info": {
      "name": "python"
    }
  },
  "cells": [
    {
      "cell_type": "code",
      "execution_count": null,
      "metadata": {
        "id": "cwfqE8AMLfFl"
      },
      "outputs": [],
      "source": [
        "fin = \"N\"\n",
        "# solicita nombres de materias\n",
        "mat1 = input(\"Ingrese la primera materia = \")\n",
        "mat2 = input(\"Ingrese la segunda materia = \")\n",
        "mat3 = input(\"Ingrese la tercera materia = \")\n",
        "\n",
        "alumnos = []\n",
        "\n",
        "while fin != \"S\" and fin !=\"s\":\n",
        "    print(\"\\n\")\n",
        "    nombre_alumno = input(\"Ingrese el nombre del Alumno = \")\n",
        "    # Inicializa notas\n",
        "    nota1 = -1\n",
        "    nota2 = -1\n",
        "    nota3 = -1\n",
        "\n",
        "\n",
        "    # valida notas\n",
        "    while nota1 >100 or nota1 <0:\n",
        "      nota1 = int(input(\"Ingrese la nota de \" + mat1 + \" (0-100) = \"))\n",
        "      if nota1 >100 or nota1 <0:\n",
        "        print(\"Nota Invalida\")\n",
        "\n",
        "    while nota2 >100 or nota2 <0:\n",
        "      nota2 = int(input(\"Ingrese la nota de \" + mat2 + \" (0-100) = \"))\n",
        "      if nota2 >100 or nota2 <0:\n",
        "        print(\"Nota Invalida\")\n",
        "\n",
        "    while nota3 >100 or nota3 <0:\n",
        "      nota3 = int(input(\"Ingrese la nota de \" + mat3 + \" (0-100) = \"))\n",
        "      if nota3 >100 or nota3 <0:\n",
        "        print(\"Nota Invalida\")\n",
        "\n",
        "    #calcula promedio y agrega status\n",
        "    promedio = int((nota1+nota2+nota3)/3)\n",
        "    if promedio >= 90:\n",
        "      glosa = 'Excelente'\n",
        "      if promedio == 100 :\n",
        "        glosa = glosa + ', Puntuación Perfecta!'\n",
        "    elif  promedio <= 89 and promedio >= 75 :\n",
        "      glosa = 'Bueno'\n",
        "    else : glosa = 'Necesita mejorar'\n",
        "\n",
        "    if promedio >= 60:\n",
        "      status = 'Aprobado'\n",
        "    else:\n",
        "      status = 'Reprobado'\n",
        "\n",
        "    #guarda valores en diccionario\n",
        "    alumnos.append({\n",
        "                  'name': nombre_alumno,\n",
        "                  mat1: nota1,\n",
        "                  mat2: nota2,\n",
        "                  mat3: nota3,\n",
        "                  'promedio' : promedio,\n",
        "                  'status': status,\n",
        "                  'glosa': glosa\n",
        "                  })\n",
        "\n",
        "\n",
        "    fin = input(\"Quiere Terminar? (S/N) = \")\n",
        "\n",
        "\n",
        "#imprime registros\n",
        "print(\"\\n\")\n",
        "for datos  in alumnos:\n",
        "  print(f\"Nombre: {datos['name']} \\nPromedio: {datos['promedio']} \\nStatus: {datos['status']} \\nComentario: {datos['glosa']} \\n\\n\")"
      ]
    }
  ]
}