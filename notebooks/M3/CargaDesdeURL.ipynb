{
  "nbformat": 4,
  "nbformat_minor": 0,
  "metadata": {
    "colab": {
      "provenance": []
    },
    "kernelspec": {
      "name": "python3",
      "display_name": "Python 3"
    },
    "language_info": {
      "name": "python"
    }
  },
  "cells": [
    {
      "cell_type": "code",
      "source": [
        "import numpy as np\n",
        "import pandas as pd\n",
        "import csv\n",
        "import requests\n",
        "from io import StringIO\n",
        "from google.colab import files\n",
        "from google.colab import drive\n"
      ],
      "metadata": {
        "id": "gOE_r0pgt1hF"
      },
      "execution_count": 25,
      "outputs": []
    },
    {
      "cell_type": "code",
      "execution_count": 26,
      "metadata": {
        "colab": {
          "base_uri": "https://localhost:8080/"
        },
        "id": "Z-v52Y3ctoUq",
        "outputId": "3b02d178-32db-4cee-ed60-5c67ee30f566"
      },
      "outputs": [
        {
          "output_type": "stream",
          "name": "stdout",
          "text": [
            "Delimitador detectado: ';'\n",
            "   ID_Venta   Producto  Cantidad  Precio\n",
            "0       101     Laptop         1     800\n",
            "1       102    Teclado         2      60\n",
            "2       103      Mouse         3      45\n",
            "3       104    Monitor         1     200\n",
            "4       105  Impresora         1     150\n"
          ]
        }
      ],
      "source": [
        "#1. Cargar archivo .csv en un dataframe\n",
        "url = \"https://drive.google.com/uc?export=download&id=1Y9iOYSp0MWV3hf4zSz-bRDXlfObS0w2p\"\n",
        "\n",
        "response = requests.get(url)\n",
        "data = response.text\n",
        "\n",
        "# define el delimitador desde la url\n",
        "dialect = csv.Sniffer().sniff(data)\n",
        "print(f\"Delimitador detectado: '{dialect.delimiter}'\")\n",
        "\n",
        "df = pd.read_csv(url, sep=dialect.delimiter)\n",
        "\n",
        "# 2. Mostrar las primeras 5 lineas\n",
        "print(df.head())"
      ]
    },
    {
      "cell_type": "code",
      "source": [
        "#3 extraer solo columas Producto y precio\n",
        "df_filtrado = df[['Producto', 'Precio']]\n",
        "print(df_filtrado)\n"
      ],
      "metadata": {
        "colab": {
          "base_uri": "https://localhost:8080/"
        },
        "id": "nTu7PgR2uGVG",
        "outputId": "bcceca35-3a7d-43b8-8737-f1fb712a9aa8"
      },
      "execution_count": 27,
      "outputs": [
        {
          "output_type": "stream",
          "name": "stdout",
          "text": [
            "    Producto  Precio\n",
            "0     Laptop     800\n",
            "1    Teclado      60\n",
            "2      Mouse      45\n",
            "3    Monitor     200\n",
            "4  Impresora     150\n",
            "5   Cargador      50\n"
          ]
        }
      ]
    },
    {
      "cell_type": "code",
      "source": [
        "#4 Productos con precio > 50\n",
        "df_filtrado = df_filtrado[df_filtrado['Precio'] > 50]\n",
        "print(df_filtrado)\n"
      ],
      "metadata": {
        "colab": {
          "base_uri": "https://localhost:8080/"
        },
        "id": "F_bH8PHDvSFa",
        "outputId": "d62d2624-5390-453d-9b4e-20316ac1d557"
      },
      "execution_count": 28,
      "outputs": [
        {
          "output_type": "stream",
          "name": "stdout",
          "text": [
            "    Producto  Precio\n",
            "0     Laptop     800\n",
            "1    Teclado      60\n",
            "3    Monitor     200\n",
            "4  Impresora     150\n"
          ]
        }
      ]
    },
    {
      "cell_type": "code",
      "source": [
        "#monta el drive para guardar el archivo\n",
        "drive.mount('/content/drive')"
      ],
      "metadata": {
        "colab": {
          "base_uri": "https://localhost:8080/"
        },
        "id": "pAim-ySuw5Mw",
        "outputId": "342ba380-d21e-4f65-fea4-fbd336c5612a"
      },
      "execution_count": 29,
      "outputs": [
        {
          "output_type": "stream",
          "name": "stdout",
          "text": [
            "Drive already mounted at /content/drive; to attempt to forcibly remount, call drive.mount(\"/content/drive\", force_remount=True).\n"
          ]
        }
      ]
    },
    {
      "cell_type": "code",
      "source": [
        "#5. Guardar el DataFrame filtrado en un nuevo archivo CSV (3 puntos).\n",
        "ruta = '/content/drive/MyDrive/df_filtrado.csv'\n",
        "to_csv = df_filtrado.to_csv(ruta)"
      ],
      "metadata": {
        "id": "STLHO_4rxU9z"
      },
      "execution_count": 30,
      "outputs": []
    },
    {
      "cell_type": "code",
      "source": [
        "#define el separador e imprime el resultado\n",
        "with open(ruta, 'r', encoding='utf-8') as f:\n",
        "    sample = f.read(2048)\n",
        "    dialect = csv.Sniffer().sniff(sample)\n",
        "\n",
        "df_guardado = pd.read_csv(ruta, sep=dialect.delimiter)\n",
        "print(df_guardado)"
      ],
      "metadata": {
        "colab": {
          "base_uri": "https://localhost:8080/"
        },
        "id": "ccebhN7TyL4E",
        "outputId": "4201ea93-f1d3-4d0b-ae9b-dd4abdb625b0"
      },
      "execution_count": 31,
      "outputs": [
        {
          "output_type": "stream",
          "name": "stdout",
          "text": [
            "   Unnamed: 0   Producto  Precio\n",
            "0           0     Laptop     800\n",
            "1           1    Teclado      60\n",
            "2           3    Monitor     200\n",
            "3           4  Impresora     150\n"
          ]
        }
      ]
    }
  ]
}