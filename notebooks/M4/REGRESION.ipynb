{
  "nbformat": 4,
  "nbformat_minor": 0,
  "metadata": {
    "colab": {
      "provenance": []
    },
    "kernelspec": {
      "name": "python3",
      "display_name": "Python 3"
    },
    "language_info": {
      "name": "python"
    }
  },
  "cells": [
    {
      "cell_type": "code",
      "source": [
        "# 1. Importar Librerías\n",
        "import numpy as np\n",
        "import pandas as pd\n",
        "import matplotlib.pyplot as plt\n",
        "import statsmodels.api as sm\n",
        "from sklearn.metrics import mean_squared_error, mean_absolute_error, r2_score\n",
        "from sklearn.linear_model import LinearRegression\n"
      ],
      "metadata": {
        "id": "0vPqyTuDNfG7"
      },
      "execution_count": 1,
      "outputs": []
    },
    {
      "cell_type": "code",
      "source": [
        "# 2. Crear un Conjunto de Datos simulado con relación positiva fuerte\n",
        "n=30\n",
        "np.random.seed(42)  # Para reproducibilidad\n",
        "\n",
        "tAmbiente = (np.random.uniform(-50, 50, n)).round(2)  #\n",
        "\n",
        "\n",
        "# 2. Crear cEnergia con relación positiva fuerte (pendiente positiva y poco ruido)\n",
        "ruido = np.round(np.random.normal(loc=0, scale=2, size=n),2)  # ruido pequeño\n",
        "cEnergia = -2 * tAmbiente + 5 + ruido  # Y está fuertemente relacionada con X\n",
        "\n",
        "\n",
        "# Crear DataFrame\n",
        "df = pd.DataFrame({\n",
        "    \"Temperatura\": tAmbiente,\n",
        "    \"Energia\": cEnergia\n",
        "})\n",
        "\n",
        "# Mostrar DataFrame\n",
        "print(\"Datos simulados:\")\n",
        "print(df)\n",
        "\n"
      ],
      "metadata": {
        "colab": {
          "base_uri": "https://localhost:8080/"
        },
        "id": "PwHEMuLlJnPN",
        "outputId": "88e04d27-e76e-4a1b-d9bf-dbca472fdf47"
      },
      "execution_count": 2,
      "outputs": [
        {
          "output_type": "stream",
          "name": "stdout",
          "text": [
            "Datos simulados:\n",
            "    Temperatura  Energia\n",
            "0        -12.55    27.80\n",
            "1         45.07   -84.39\n",
            "2         23.20   -42.60\n",
            "3          9.87   -15.32\n",
            "4        -34.40    72.60\n",
            "5        -34.40    77.50\n",
            "6        -44.19    93.35\n",
            "7         36.62   -70.36\n",
            "8         10.11   -13.57\n",
            "9         20.81   -39.06\n",
            "10       -47.94   101.30\n",
            "11        46.99   -92.90\n",
            "12        33.24   -64.14\n",
            "13       -28.77    62.93\n",
            "14       -31.82    70.12\n",
            "15       -31.66    68.66\n",
            "16       -19.58    43.93\n",
            "17         2.48    -0.56\n",
            "18        -6.81    15.66\n",
            "19       -20.88    45.32\n",
            "20        11.19   -18.30\n",
            "21       -36.05    79.21\n",
            "22       -20.79    47.27\n",
            "23       -13.36    28.19\n",
            "24        -4.39    14.43\n",
            "25        28.52   -52.81\n",
            "26       -30.03    63.71\n",
            "27         1.42     3.38\n",
            "28         9.24   -11.42\n",
            "29       -45.35    97.56\n"
          ]
        }
      ]
    },
    {
      "cell_type": "code",
      "source": [
        "#2. Implementación del Modelo de Regresión Lineal (3 puntos)\n",
        "#● Utilizar la librería scikit-learn para ajustar un modelo de regresión lineal simple.\n",
        "#● Obtener e imprimir los coeficientes de la regresión (intercepto y pendiente).\n",
        "\n",
        "\n",
        "# X: variables predictoras\n",
        "X = df[['Temperatura']]\n",
        "y = df['Energia']\n",
        "\n",
        "# Entrenar el modelo\n",
        "modelo = LinearRegression()\n",
        "modelo.fit(X, y)\n",
        "\n",
        "# Obtener coeficientes\n",
        "\n",
        "beta_0 = modelo.intercept_\n",
        "beta_1 = modelo.coef_[0]\n",
        "\n",
        "print(f\"Coeficientes del modelo:\")\n",
        "print(f\"- Intercepto (beta_0): {beta_0:.2f}\")\n",
        "print(f\"- Pendiente (beta_1): {beta_1:.2f}\")\n"
      ],
      "metadata": {
        "colab": {
          "base_uri": "https://localhost:8080/"
        },
        "id": "PSMFDwYHcrX6",
        "outputId": "e5f8c920-e7ef-49f3-9f96-dc0d7e2c0296"
      },
      "execution_count": 3,
      "outputs": [
        {
          "output_type": "stream",
          "name": "stdout",
          "text": [
            "Coeficientes del modelo:\n",
            "- Intercepto (beta_0): 4.46\n",
            "- Pendiente (beta_1): -2.03\n"
          ]
        }
      ]
    },
    {
      "cell_type": "code",
      "source": [
        "\n",
        "# Predecir\n",
        "y_pred = modelo.predict(X)\n",
        "\n",
        "# Ahora puedes usar y_pred sin error\n",
        "valores_predichos = np.round(y_pred,2).tolist()\n",
        "print(\"Primeros 5 valores predichos:\")\n",
        "print(valores_predichos[:5])\n"
      ],
      "metadata": {
        "colab": {
          "base_uri": "https://localhost:8080/"
        },
        "id": "5CNBpcmfg6Ly",
        "outputId": "d98f1556-7f3c-49a5-c72c-208365b8fd70"
      },
      "execution_count": 4,
      "outputs": [
        {
          "output_type": "stream",
          "name": "stdout",
          "text": [
            "Primeros 5 valores predichos:\n",
            "[29.91, -86.93, -42.58, -15.55, 74.22]\n"
          ]
        }
      ]
    },
    {
      "cell_type": "code",
      "source": [
        "y_true = df[\"Energia\"]\n",
        "y_pred = modelo.predict(X)\n",
        "mse = mean_squared_error(y_true, y_pred)\n",
        "mae = mean_absolute_error(y_true, y_pred)\n",
        "r2 = r2_score(y_true, y_pred)\n",
        "\n",
        "print(f\"\\nEvaluación del modelo:\")\n",
        "print(f\"- Error Cuadrático Medio (MSE): {mse:.3f}\")\n",
        "print(f\"- Error Absoluto Medio (MAE): {mae:.3f}\")\n",
        "print(f\"- Coeficiente de Determinación (R²): {r2:.3f}\")"
      ],
      "metadata": {
        "colab": {
          "base_uri": "https://localhost:8080/"
        },
        "id": "ZPH22bQmhGJa",
        "outputId": "28b858af-0d66-4313-d8e3-3c4f1e212f7a"
      },
      "execution_count": 5,
      "outputs": [
        {
          "output_type": "stream",
          "name": "stdout",
          "text": [
            "\n",
            "Evaluación del modelo:\n",
            "- Error Cuadrático Medio (MSE): 2.686\n",
            "- Error Absoluto Medio (MAE): 1.298\n",
            "- Coeficiente de Determinación (R²): 0.999\n"
          ]
        }
      ]
    },
    {
      "cell_type": "code",
      "source": [
        "# 3. Visualizar los datos\n",
        "plt.scatter(df[\"Temperatura\"], df[\"Energia\"], color='purple')\n",
        "plt.xlabel(\"Temperatura\")\n",
        "plt.ylabel(\"Energia\")\n",
        "plt.title(\"Relación entre Temperatura y Energia\")\n",
        "plt.grid(True)\n",
        "plt.show()"
      ],
      "metadata": {
        "colab": {
          "base_uri": "https://localhost:8080/",
          "height": 492
        },
        "id": "xz0qudF8Jrnv",
        "outputId": "3206ed1c-c9a8-4251-a889-643188036050"
      },
      "execution_count": 6,
      "outputs": [
        {
          "output_type": "display_data",
          "data": {
            "text/plain": [
              "<Figure size 640x480 with 1 Axes>"
            ],
            "image/png": "[encoded data removed]"
          },
          "metadata": {}
        }
      ]
    },
    {
      "cell_type": "markdown",
      "source": [
        "Por cada grado de Temperatura adicional, el consumo de Energia aumenta en 4.46 unidades.\n",
        "Si la Temperatura es igual a 0 Grados, el cosumo de Energia es igual a -2.03 unidades.\n",
        "\n",
        "\n",
        "El Error Absoluto Medio (MAE)= 1.298 indica que modelo se equivoca en ~1.3 unidades de Energia promedio, lo que es bastante aceptable.\n",
        "\n",
        "\n",
        "\n",
        "El Coeficiente de Determinación (R²)= 0.999, indica que el modelo es acertado y explica el 99,9% de la variación en la variable objetivo.\n",
        "\n",
        "\n"
      ],
      "metadata": {
        "id": "J2lkZvqpSS_9"
      }
    }
  ]
}