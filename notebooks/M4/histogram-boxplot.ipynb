{
  "cells": [
    {
      "cell_type": "markdown",
      "metadata": {
        "id": "4KhqpI_2T-Uz"
      },
      "source": [
        "Deberás trabajar con un conjunto de datos ficticio para calcular estadísticas descriptivas clave y visualizar la distribución de los datos. Se utilizarán herramientas como Pandas, NumPy y Matplotlib para realizar el análisis.\n",
        "Requerimientos:\n",
        "1. Definir Variables (2 puntos)\n",
        "● Identificar el tipo de variable (categórica, cuantitativa discreta o continua) de cada\n",
        "columna en el conjunto de datos.\n",
        "2. Construcción de una Tabla de Frecuencia (2 puntos)\n",
        "● Generar una tabla de frecuencia para una variable categórica y otra para una variable cuantitativa discreta.\n",
        "3. Cálculo de Medidas de Tendencia Central (2 puntos)\n",
        "● Calcular la media, mediana y moda de una variable cuantitativa.\n",
        "4. Cálculo de Medidas de Dispersión (2 puntos)\n",
        "● Calcular el rango, varianza y desviación estándar de la misma variable utilizada en el\n",
        "punto anterior.\n",
        "5. Visualización de Datos (2 puntos)\n",
        "Crear un histograma para una variable cuantitativa y un boxplot para otra variable del dataset."
      ]
    },
    {
      "cell_type": "markdown",
      "metadata": {
        "id": "gRe5OTicVBHt"
      },
      "source": [
        "# **Importar Librerias**"
      ]
    },
    {
      "cell_type": "code",
      "execution_count": 22,
      "metadata": {
        "id": "m365822fT8rA"
      },
      "outputs": [],
      "source": [
        "import pandas as pd\n",
        "import csv\n",
        "from google.colab import files\n",
        "import numpy as np\n",
        "import matplotlib.pyplot as plt\n",
        "import seaborn as sns"
      ]
    },
    {
      "cell_type": "code",
      "execution_count": 5,
      "metadata": {
        "colab": {
          "base_uri": "https://localhost:8080/",
          "height": 254
        },
        "id": "k3cyl7j5VHZT",
        "outputId": "0740c98e-f947-499f-c3ab-cafe8e60a81d"
      },
      "outputs": [
        {
          "data": {
            "text/html": [
              "\n",
              "     <input type=\"file\" id=\"files-bbaeff6c-d211-4e3c-8f23-80f473dcfdf3\" name=\"files[]\" multiple disabled\n",
              "        style=\"border:none\" />\n",
              "     <output id=\"result-bbaeff6c-d211-4e3c-8f23-80f473dcfdf3\">\n",
              "      Upload widget is only available when the cell has been executed in the\n",
              "      current browser session. Please rerun this cell to enable.\n",
              "      </output>\n",
              "      <script>// Copyright 2017 Google LLC\n",
              "//\n",
              "// Licensed under the Apache License, Version 2.0 (the \"License\");\n",
              "// you may not use this file except in compliance with the License.\n",
              "// You may obtain a copy of the License at\n",
              "//\n",
              "//      http://www.apache.org/licenses/LICENSE-2.0\n",
              "//\n",
              "// Unless required by applicable law or agreed to in writing, software\n",
              "// distributed under the License is distributed on an \"AS IS\" BASIS,\n",
              "// WITHOUT WARRANTIES OR CONDITIONS OF ANY KIND, either express or implied.\n",
              "// See the License for the specific language governing permissions and\n",
              "// limitations under the License.\n",
              "\n",
              "/**\n",
              " * @fileoverview Helpers for google.colab Python module.\n",
              " */\n",
              "(function(scope) {\n",
              "function span(text, styleAttributes = {}) {\n",
              "  const element = document.createElement('span');\n",
              "  element.textContent = text;\n",
              "  for (const key of Object.keys(styleAttributes)) {\n",
              "    element.style[key] = styleAttributes[key];\n",
              "  }\n",
              "  return element;\n",
              "}\n",
              "\n",
              "// Max number of bytes which will be uploaded at a time.\n",
              "const MAX_PAYLOAD_SIZE = 100 * 1024;\n",
              "\n",
              "function _uploadFiles(inputId, outputId) {\n",
              "  const steps = uploadFilesStep(inputId, outputId);\n",
              "  const outputElement = document.getElementById(outputId);\n",
              "  // Cache steps on the outputElement to make it available for the next call\n",
              "  // to uploadFilesContinue from Python.\n",
              "  outputElement.steps = steps;\n",
              "\n",
              "  return _uploadFilesContinue(outputId);\n",
              "}\n",
              "\n",
              "// This is roughly an async generator (not supported in the browser yet),\n",
              "// where there are multiple asynchronous steps and the Python side is going\n",
              "// to poll for completion of each step.\n",
              "// This uses a Promise to block the python side on completion of each step,\n",
              "// then passes the result of the previous step as the input to the next step.\n",
              "function _uploadFilesContinue(outputId) {\n",
              "  const outputElement = document.getElementById(outputId);\n",
              "  const steps = outputElement.steps;\n",
              "\n",
              "  const next = steps.next(outputElement.lastPromiseValue);\n",
              "  return Promise.resolve(next.value.promise).then((value) => {\n",
              "    // Cache the last promise value to make it available to the next\n",
              "    // step of the generator.\n",
              "    outputElement.lastPromiseValue = value;\n",
              "    return next.value.response;\n",
              "  });\n",
              "}\n",
              "\n",
              "/**\n",
              " * Generator function which is called between each async step of the upload\n",
              " * process.\n",
              " * @param {string} inputId Element ID of the input file picker element.\n",
              " * @param {string} outputId Element ID of the output display.\n",
              " * @return {!Iterable<!Object>} Iterable of next steps.\n",
              " */\n",
              "function* uploadFilesStep(inputId, outputId) {\n",
              "  const inputElement = document.getElementById(inputId);\n",
              "  inputElement.disabled = false;\n",
              "\n",
              "  const outputElement = document.getElementById(outputId);\n",
              "  outputElement.innerHTML = '';\n",
              "\n",
              "  const pickedPromise = new Promise((resolve) => {\n",
              "    inputElement.addEventListener('change', (e) => {\n",
              "      resolve(e.target.files);\n",
              "    });\n",
              "  });\n",
              "\n",
              "  const cancel = document.createElement('button');\n",
              "  inputElement.parentElement.appendChild(cancel);\n",
              "  cancel.textContent = 'Cancel upload';\n",
              "  const cancelPromise = new Promise((resolve) => {\n",
              "    cancel.onclick = () => {\n",
              "      resolve(null);\n",
              "    };\n",
              "  });\n",
              "\n",
              "  // Wait for the user to pick the files.\n",
              "  const files = yield {\n",
              "    promise: Promise.race([pickedPromise, cancelPromise]),\n",
              "    response: {\n",
              "      action: 'starting',\n",
              "    }\n",
              "  };\n",
              "\n",
              "  cancel.remove();\n",
              "\n",
              "  // Disable the input element since further picks are not allowed.\n",
              "  inputElement.disabled = true;\n",
              "\n",
              "  if (!files) {\n",
              "    return {\n",
              "      response: {\n",
              "        action: 'complete',\n",
              "      }\n",
              "    };\n",
              "  }\n",
              "\n",
              "  for (const file of files) {\n",
              "    const li = document.createElement('li');\n",
              "    li.append(span(file.name, {fontWeight: 'bold'}));\n",
              "    li.append(span(\n",
              "        `(${file.type || 'n/a'}) - ${file.size} bytes, ` +\n",
              "        `last modified: ${\n",
              "            file.lastModifiedDate ? file.lastModifiedDate.toLocaleDateString() :\n",
              "                                    'n/a'} - `));\n",
              "    const percent = span('0% done');\n",
              "    li.appendChild(percent);\n",
              "\n",
              "    outputElement.appendChild(li);\n",
              "\n",
              "    const fileDataPromise = new Promise((resolve) => {\n",
              "      const reader = new FileReader();\n",
              "      reader.onload = (e) => {\n",
              "        resolve(e.target.result);\n",
              "      };\n",
              "      reader.readAsArrayBuffer(file);\n",
              "    });\n",
              "    // Wait for the data to be ready.\n",
              "    let fileData = yield {\n",
              "      promise: fileDataPromise,\n",
              "      response: {\n",
              "        action: 'continue',\n",
              "      }\n",
              "    };\n",
              "\n",
              "    // Use a chunked sending to avoid message size limits. See b/62115660.\n",
              "    let position = 0;\n",
              "    do {\n",
              "      const length = Math.min(fileData.byteLength - position, MAX_PAYLOAD_SIZE);\n",
              "      const chunk = new Uint8Array(fileData, position, length);\n",
              "      position += length;\n",
              "\n",
              "      const base64 = btoa(String.fromCharCode.apply(null, chunk));\n",
              "      yield {\n",
              "        response: {\n",
              "          action: 'append',\n",
              "          file: file.name,\n",
              "          data: base64,\n",
              "        },\n",
              "      };\n",
              "\n",
              "      let percentDone = fileData.byteLength === 0 ?\n",
              "          100 :\n",
              "          Math.round((position / fileData.byteLength) * 100);\n",
              "      percent.textContent = `${percentDone}% done`;\n",
              "\n",
              "    } while (position < fileData.byteLength);\n",
              "  }\n",
              "\n",
              "  // All done.\n",
              "  yield {\n",
              "    response: {\n",
              "      action: 'complete',\n",
              "    }\n",
              "  };\n",
              "}\n",
              "\n",
              "scope.google = scope.google || {};\n",
              "scope.google.colab = scope.google.colab || {};\n",
              "scope.google.colab._files = {\n",
              "  _uploadFiles,\n",
              "  _uploadFilesContinue,\n",
              "};\n",
              "})(self);\n",
              "</script> "
            ],
            "text/plain": [
              "<IPython.core.display.HTML object>"
            ]
          },
          "metadata": {},
          "output_type": "display_data"
        },
        {
          "name": "stdout",
          "output_type": "stream",
          "text": [
            "Saving ingresos.csv to ingresos.csv\n",
            "   ID  Nombre  Edad  Ingresos     Género        Ciudad\n",
            "3   4   Marta    22      2200   Femenino         Quito\n",
            "7   8   Elena    24      2700   Femenino         Quito\n",
            "0   1     Ana    25      2500   Femenino          Lima\n",
            "9  10   Paula    26      2600   Femenino  Buenos Aires\n",
            "5   6   Sofía    27      2900   Femenino          Lima\n",
            "2   3    Luis    28      2800  Masculino          Lima\n",
            "6   7  Carlos    29      3100  Masculino  Buenos Aires\n",
            "1   2    Juan    30      3200  Masculino        Bogotá\n",
            "8   9  Miguel    31      3300  Masculino      Santiago\n",
            "4   5   Pedro    35      4100  Masculino      Santiago\n"
          ]
        }
      ],
      "source": [
        "files.upload()\n",
        "archivo_csv = 'ingresos.csv'\n",
        "\n",
        "#Carga Dataset(defino el separador, para asegurarme de poder leerlo correctamente)\n",
        "with open(archivo_csv, 'r', encoding='utf-8') as f:\n",
        "    sample = f.read(2048)\n",
        "    dialect = csv.Sniffer().sniff(sample)\n",
        "\n",
        "df_ingresos = pd.read_csv(archivo_csv, sep=dialect.delimiter)\n",
        "print(df_ingresos.sort_values(by='Edad'))\n"
      ]
    },
    {
      "cell_type": "markdown",
      "metadata": {
        "id": "KdO-MVXLT9T8"
      },
      "source": [
        "**1.- Tipos**\n",
        "* Nombre -> Categorica\n",
        "* Edad -> Discreta\n",
        "* Ingresos ->  Discreta\n",
        "* Gënero -> Categorica\n",
        "* Ciudad -> Categorica\n"
      ]
    },
    {
      "cell_type": "markdown",
      "metadata": {
        "id": "v6fnOiafclFb"
      },
      "source": [
        "**2.- Tabla de Frecuencia**\n",
        "\n",
        "* Edad -> Discreta\n",
        "* Gënero -> Categorica"
      ]
    },
    {
      "cell_type": "code",
      "execution_count": 6,
      "metadata": {
        "colab": {
          "base_uri": "https://localhost:8080/"
        },
        "id": "GzfL_9DkUIbX",
        "outputId": "79c84a80-62fe-4d06-c78f-99bb90047b49"
      },
      "outputs": [
        {
          "name": "stdout",
          "output_type": "stream",
          "text": [
            "\n",
            "\u001b[4mFrecuencias Género :\u001b[0m\n",
            "           Absoluta  Relativa  Acumulada  Relativa Acumulada\n",
            "Género                                                      \n",
            "Femenino          5       0.5          5                 0.5\n",
            "Masculino         5       0.5         10                 1.0\n",
            "\n",
            "\u001b[4mFrecuencias Edad :\u001b[0m\n",
            "      Absoluta  Relativa  Acumulada  Relativa Acumulada\n",
            "Edad                                                   \n",
            "22           1       0.1          1                 0.1\n",
            "24           1       0.1          2                 0.2\n",
            "25           1       0.1          3                 0.3\n",
            "26           1       0.1          4                 0.4\n",
            "27           1       0.1          5                 0.5\n",
            "28           1       0.1          6                 0.6\n",
            "29           1       0.1          7                 0.7\n",
            "30           1       0.1          8                 0.8\n",
            "31           1       0.1          9                 0.9\n",
            "35           1       0.1         10                 1.0\n"
          ]
        }
      ],
      "source": [
        "lista = ['Género', 'Edad']\n",
        "tabla_frecuencia = {}\n",
        "for columna in lista:\n",
        "    print(\"\\n\\033[4mFrecuencias\",columna.capitalize(),\":\\033[0m\")\n",
        "    tabla_frecuencia[columna] = df_ingresos[columna].value_counts().sort_index().to_frame('Absoluta')\n",
        "    tabla_frecuencia[columna]['Relativa'] = tabla_frecuencia[columna]['Absoluta']/tabla_frecuencia[columna]['Absoluta'].sum()\n",
        "    tabla_frecuencia[columna]['Acumulada'] = tabla_frecuencia[columna]['Absoluta'].cumsum()\n",
        "    tabla_frecuencia[columna]['Relativa Acumulada'] = tabla_frecuencia[columna]['Relativa'].cumsum()\n",
        "\n",
        "    print(tabla_frecuencia[columna])\n",
        "\n"
      ]
    },
    {
      "cell_type": "markdown",
      "metadata": {
        "id": "HiF79awvdA12"
      },
      "source": [
        "**3.- y 4.- Analisis variables cuantitativas**\n",
        "\n",
        "**Medidas de Tendencia central (media, mediana y moda)**\n",
        "\n",
        "**Medidas de Variacion (rango, varianza y desviación estándar)**\n",
        "\n",
        "\n",
        "* Edad -> Discreta\n"
      ]
    },
    {
      "cell_type": "code",
      "execution_count": 25,
      "metadata": {
        "colab": {
          "base_uri": "https://localhost:8080/"
        },
        "id": "5OxNsGruXd16",
        "outputId": "ae2378e6-f485-4362-eabf-9d7f83800078"
      },
      "outputs": [
        {
          "name": "stdout",
          "output_type": "stream",
          "text": [
            "\n",
            "\u001b[4mValores Variable Cuanitativa Edad :\u001b[0m\n",
            "Media:  27.70\n",
            "Mediana:  27.50\n",
            "Moda: 22\n",
            "Rango: 13\n",
            "Varianza:  14.23\n",
            "Desviacion Estandar:  3.77\n",
            "Coeficiente de variacion:   13.62%\n"
          ]
        }
      ],
      "source": [
        "vCuantitativas = ['Edad']\n",
        "media = {}\n",
        "mediana = {}\n",
        "moda = {}\n",
        "rango = {}\n",
        "varianza = {}\n",
        "desviacion_estandar = {}\n",
        "for columna in vCuantitativas:\n",
        "  media[columna] = df_ingresos[columna].mean()\n",
        "  mediana[columna]  = df_ingresos[columna].median()\n",
        "  moda[columna]  = df_ingresos[columna].mode()[0]\n",
        "  rango[columna] = df_ingresos[columna].max() - df_ingresos[columna].min()\n",
        "  varianza[columna] = df_ingresos[columna].var()\n",
        "  desviacion_estandar[columna] = df_ingresos[columna].std()\n",
        "  coeficiente_variacion = (desviacion_estandar[columna] / media[columna])*100\n",
        "\n",
        "  print(\"\\n\\033[4mValores Variable Cuanitativa\",columna.capitalize(),\":\\033[0m\")\n",
        "  print(\"Media:\",f\"{media[columna]: .2f}\")\n",
        "  print(\"Mediana:\",f\"{mediana[columna]: .2f}\")\n",
        "  print(\"Moda:\",moda[columna])\n",
        "  print(\"Rango:\",rango[columna])\n",
        "  print(\"Varianza:\",f\"{varianza[columna]: .2f}\")\n",
        "  print(\"Desviacion Estandar:\",f\"{desviacion_estandar[columna]: .2f}\")\n",
        "  print(\"Coeficiente de variacion: \", f\"{coeficiente_variacion: .2f}%\")"
      ]
    },
    {
      "cell_type": "markdown",
      "metadata": {
        "id": "KY8iPlJc0pEF"
      },
      "source": [
        "**5.- Histograma**"
      ]
    },
    {
      "cell_type": "code",
      "execution_count": null,
      "metadata": {
        "colab": {
          "base_uri": "https://localhost:8080/",
          "height": 600
        },
        "id": "yncFxxsFeZ9A",
        "outputId": "3952db3d-3b96-4d9d-d255-73ed4cfe8834"
      },
      "outputs": [
        {
          "data": {
            "image/png": "[encoded data removed]",
            "text/plain": [
              "<Figure size 1200x600 with 1 Axes>"
            ]
          },
          "metadata": {},
          "output_type": "display_data"
        }
      ],
      "source": [
        "\n",
        "rango_ingreso = df_ingresos.groupby(['Ciudad', 'Género']).agg(\n",
        "    promedio=('Ingresos', 'mean')\n",
        ")\n",
        "    \n",
        "\n",
        "# Crear columna combinada para eje X\n",
        "rango_ingreso['Ciudad_Genero'] = rango_ingreso.index.get_level_values('Ciudad') + ' - ' + rango_ingreso.index.get_level_values('Género')\n",
        "\n",
        "# Ordenar por precio mediano (Q2),\n",
        "rango_ordenado = rango_ingreso.sort_values(by='promedio', ascending=False)\n",
        "\n",
        "# Graficar\n",
        "plt.figure(figsize=(12, 6))\n",
        "plt.bar(rango_ordenado['Ciudad_Genero'], rango_ordenado['promedio'], color='skyblue')\n",
        "\n",
        "plt.xticks(rotation=90)\n",
        "plt.title('Promedio de Ingreso por Ciudad y Género')\n",
        "plt.xlabel('Ciudad - Género')\n",
        "plt.ylabel('Promedio Ingreso')\n",
        "plt.tight_layout()\n",
        "plt.grid(axis='y')\n",
        "plt.show()\n",
        "\n"
      ]
    },
    {
      "cell_type": "markdown",
      "metadata": {
        "id": "RQboTb_T0vK9"
      },
      "source": [
        "**5.- Boxplot**"
      ]
    },
    {
      "cell_type": "code",
      "execution_count": null,
      "metadata": {
        "colab": {
          "base_uri": "https://localhost:8080/",
          "height": 472
        },
        "id": "jd4iTU6ao9gC",
        "outputId": "f91e84c2-b636-4163-bf31-ce9a8086bd79"
      },
      "outputs": [
        {
          "data": {
            "image/png": "[encoded data removed]",
            "text/plain": [
              "<Figure size 640x480 with 1 Axes>"
            ]
          },
          "metadata": {},
          "output_type": "display_data"
        }
      ],
      "source": [
        "#hacer diagrama de cajas\n",
        "import matplotlib.pyplot as plt\n",
        "\n",
        "sns.boxplot(x='Género', y='Ingresos', data=df_ingresos)\n",
        "plt.title('Boxplot de Ingresos')\n",
        "plt.show()"
      ]
    }
  ],
  "metadata": {
    "colab": {
      "provenance": []
    },
    "kernelspec": {
      "display_name": "Python 3",
      "name": "python3"
    },
    "language_info": {
      "name": "python"
    }
  },
  "nbformat": 4,
  "nbformat_minor": 0
}
