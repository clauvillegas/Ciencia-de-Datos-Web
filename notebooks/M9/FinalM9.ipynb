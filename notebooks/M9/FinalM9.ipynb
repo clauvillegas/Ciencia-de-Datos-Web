{
  "nbformat": 4,
  "nbformat_minor": 0,
  "metadata": {
    "colab": {
      "provenance": []
    },
    "kernelspec": {
      "name": "python3",
      "display_name": "Python 3"
    },
    "language_info": {
      "name": "python"
    }
  },
  "cells": [
    {
      "cell_type": "markdown",
      "source": [
        "# **EVALUACIÓN FINAL: ANÁLISIS DE MOVIMIENTOS MIGRATORIOS CON SPARK**\n",
        "Eres parte de un equipo de analistas de datos encargado de estudiar las tendencias de migración humana en el siglo XXI utilizando Big Data. Para ello, trabajarás con un conjunto de datos que contiene información sobre migraciones entre distintos países, sus causas y el impacto socioeconómico en las regiones de origen y destino.\n",
        "\n",
        "**Objetivos de la actividad**\n",
        "\n",
        "1. Aplicar conceptos de Big Data utilizando Apache Spark y PySpark.\n",
        "2. Explorar y transformar datos con RDDs y DataFrames.\n",
        "3. Realizar consultas con Spark SQL.\n",
        "4. Implementar modelos de aprendizaje automático con MLlib.\n",
        "\n",
        "**INSTRUCCIONES**\n",
        "\n",
        "**1. Carga y exploración de datos (2 puntos)**\n",
        "* Carga el dataset proporcionado en Spark.\n",
        "* Convierte los datos en un RDD y un DataFrame.\n",
        "* Explora los datos: muestra las primeras filas, el esquema y genera estadísticas descriptivas.\n",
        "\n",
        "**2. Procesamiento de datos con RDDs y DataFrames (3 puntos)**\n",
        "* Aplica transformaciones sobre los RDDs (filter, map, flatMap).\n",
        "* Aplica acciones sobre los RDDs (collect, take, count).\n",
        "* Realiza operaciones con DataFrames: filtrado, agregaciones y ordenamiento.\n",
        "* Escribe los resultados en formato Parquet.\n",
        "\n",
        "**3. Consultas con Spark SQL (2 puntos)**\n",
        "* Registra el DataFrame como una tabla temporal.\n",
        "* Realiza consultas sobre los principales países de origen y destino.\n",
        "* Analiza las principales razones de migración por región.\n",
        "\n",
        "**4. Aplicación de MLlib para predicción de flujos migratorios (3 puntos)**\n",
        "* Convierte los datos en un formato adecuado para MLlib.\n",
        "* Aplica un modelo de regresión logística para predecir la probabilidad de migración basada\n",
        "en factores socioeconómicos.\n",
        "* Evalúa el modelo y analiza su precisión.\n"
      ],
      "metadata": {
        "id": "qg05fhT0iBE3"
      }
    },
    {
      "cell_type": "code",
      "execution_count": 48,
      "metadata": {
        "id": "L3fFL3iSh3_O"
      },
      "outputs": [],
      "source": [
        "from pyspark.sql import SparkSession\n",
        "import re\n",
        "from pyspark.sql import functions as F\n",
        "from pyspark.sql.types import DoubleType\n",
        "from pyspark.ml.feature import VectorAssembler, StringIndexer\n",
        "from pyspark.ml.classification import LogisticRegression\n",
        "from pyspark.ml.evaluation import BinaryClassificationEvaluator, MulticlassClassificationEvaluator\n",
        "from pyspark.ml.classification import DecisionTreeClassifier\n",
        "import matplotlib.pyplot as plt\n"
      ]
    },
    {
      "cell_type": "code",
      "source": [
        "# -----------------------------\n",
        "# 1. Carga y exploración de datos\n",
        "# -----------------------------\n",
        "\n",
        "\n",
        "spark = SparkSession.builder.appName(\"AnalisisMigraciones\").getOrCreate()\n",
        "df = spark.read.csv(\"migraciones.csv\", header=True, inferSchema=True)\n",
        "\n",
        "\n",
        "# Convertimos a RDD (colección distribuida de filas)\n",
        "rdd = df.rdd\n",
        "\n",
        "# Mostramos primeras filas (head) del DataFrame\n",
        "print(\"=== Primeras filas del DataFrame ===\")\n",
        "df.show()\n",
        "\n",
        "# Mostramos el esquema (columnas y tipos)\n",
        "print(\"=== Esquema del DataFrame ===\")\n",
        "df.printSchema()\n",
        "\n",
        "# Estadísticas descriptivas (para columnas numéricas)\n",
        "print(\"=== Estadísticas descriptivas ===\")\n",
        "df.describe().show(truncate=False)\n",
        "\n"
      ],
      "metadata": {
        "colab": {
          "base_uri": "https://localhost:8080/"
        },
        "id": "I15xBmglbhri",
        "outputId": "c9a1c587-04ab-4269-9e08-7518be72b91c"
      },
      "execution_count": 25,
      "outputs": [
        {
          "output_type": "stream",
          "name": "stdout",
          "text": [
            "=== Primeras filas del DataFrame ===\n",
            "+---+---------+---------------+----+---------+----------+-----------+---------------------+----------------------+----------------------+-----------------------+----------------+-----------------+\n",
            "| ID|   Origen|        Destino| Año|    Razón|PIB_Origen|PIB_Destino|Tasa_Desempleo_Origen|Tasa_Desempleo_Destino|Nivel_Educativo_Origen|Nivel_Educativo_Destino|Población_Origen|Población_Destino|\n",
            "+---+---------+---------------+----+---------+----------+-----------+---------------------+----------------------+----------------------+-----------------------+----------------+-----------------+\n",
            "|  1|   México|           EEUU|2015|Económica|      8900|      62000|                  5.2|                   3.8|                   8.5|                   12.3|       125000000|        331000000|\n",
            "|  2|    Siria|       Alemania|2016|Conflicto|      2500|      45000|                 15.4|                   4.5|                   6.2|                   14.1|        18000000|         83000000|\n",
            "|  3|Venezuela|       Colombia|2017| Política|      6000|      15000|                 14.8|                  10.1|                   9.3|                   11.0|        28000000|         50000000|\n",
            "|  4|    India|Emiratos Árabes|2018|  Laboral|      2200|      43000|                  7.2|                   1.8|                   7.8|                   13.0|      1380000000|          9800000|\n",
            "|  5|Argentina|         España|2019|Económica|     10000|      34000|                  9.5|                  13.2|                  11.5|                   13.8|        45000000|         47000000|\n",
            "+---+---------+---------------+----+---------+----------+-----------+---------------------+----------------------+----------------------+-----------------------+----------------+-----------------+\n",
            "\n",
            "=== Esquema del DataFrame ===\n",
            "root\n",
            " |-- ID: integer (nullable = true)\n",
            " |-- Origen: string (nullable = true)\n",
            " |-- Destino: string (nullable = true)\n",
            " |-- Año: integer (nullable = true)\n",
            " |-- Razón: string (nullable = true)\n",
            " |-- PIB_Origen: integer (nullable = true)\n",
            " |-- PIB_Destino: integer (nullable = true)\n",
            " |-- Tasa_Desempleo_Origen: double (nullable = true)\n",
            " |-- Tasa_Desempleo_Destino: double (nullable = true)\n",
            " |-- Nivel_Educativo_Origen: double (nullable = true)\n",
            " |-- Nivel_Educativo_Destino: double (nullable = true)\n",
            " |-- Población_Origen: integer (nullable = true)\n",
            " |-- Población_Destino: integer (nullable = true)\n",
            "\n",
            "=== Estadísticas descriptivas ===\n",
            "+-------+------------------+---------+--------+------------------+---------+------------------+------------------+---------------------+----------------------+----------------------+-----------------------+-------------------+-------------------+\n",
            "|summary|ID                |Origen   |Destino |Año               |Razón    |PIB_Origen        |PIB_Destino       |Tasa_Desempleo_Origen|Tasa_Desempleo_Destino|Nivel_Educativo_Origen|Nivel_Educativo_Destino|Población_Origen   |Población_Destino  |\n",
            "+-------+------------------+---------+--------+------------------+---------+------------------+------------------+---------------------+----------------------+----------------------+-----------------------+-------------------+-------------------+\n",
            "|count  |5                 |5        |5       |5                 |5        |5                 |5                 |5                    |5                     |5                     |5                      |5                  |5                  |\n",
            "|mean   |3.0               |NULL     |NULL    |2017.0            |NULL     |5920.0            |39800.0           |10.420000000000002   |6.68                  |8.66                  |12.84                  |3.192E8            |1.0416E8           |\n",
            "|stddev |1.5811388300841898|NULL     |NULL    |1.5811388300841898|NULL     |3573.0938974507794|17166.828478201787|4.54004405264971     |4.771477758514651     |1.9552493447128425    |1.2461942063739502     |5.944986963820863E8|1.294300119755847E8|\n",
            "|min    |1                 |Argentina|Alemania|2015              |Conflicto|2200              |15000             |5.2                  |1.8                   |6.2                   |11.0                   |18000000           |9800000            |\n",
            "|max    |5                 |Venezuela|España  |2019              |Política |10000             |62000             |15.4                 |13.2                  |11.5                  |14.1                   |1380000000         |331000000          |\n",
            "+-------+------------------+---------+--------+------------------+---------+------------------+------------------+---------------------+----------------------+----------------------+-----------------------+-------------------+-------------------+\n",
            "\n"
          ]
        }
      ]
    },
    {
      "cell_type": "code",
      "source": [
        "# -----------------------------\n",
        "# 2. Procesamiento con RDDs y DataFrames\n",
        "# -----------------------------\n",
        "\n",
        "# transforma\n",
        "cols_objetivo = [\"PIB_Origen\", \"PIB_Destino\"]\n",
        "\n",
        "df_num = df\n",
        "# Construimos una columna combinada con los dos PIBs para calcular cuartiles globales\n",
        "union_pib = (\n",
        "    df_num.select(F.col(\"PIB_Origen\").alias(\"pib\"))\n",
        "    .unionByName(df_num.select(F.col(\"PIB_Destino\").alias(\"pib\")))\n",
        "    .filter(F.col(\"pib\").isNotNull())\n",
        ")\n",
        "\n",
        "q1, q2, q3 = union_pib.approxQuantile(\"pib\", [0.25, 0.5, 0.75], 0.01)\n",
        "print(f\"Umbrales globales -> Q1={q1:.2f}, Q2={q2:.2f}, Q3={q3:.2f}\")\n",
        "\n",
        "# Función para categorizar usando los mismos umbrales\n",
        "def categorizar_con_cortes(df_in, col, q1, q2, q3):\n",
        "    return df_in.withColumn(\n",
        "        f\"{col}_categoria\",\n",
        "        F.when(F.col(col).isNull(), None)\n",
        "         .when(F.col(col) <= q1, \"Bajo\")\n",
        "         .when(F.col(col) <= q2, \"Medio Bajo\")\n",
        "         .when(F.col(col) <= q3, \"Medio Alto\")\n",
        "         .otherwise(\"Alto\")\n",
        "    )\n",
        "\n",
        "df_cat = df_num\n",
        "for c in cols_objetivo:\n",
        "    if c in df_cat.columns:\n",
        "        df_cat = categorizar_con_cortes(df_cat, c, q1, q2, q3)\n",
        "\n",
        "\n",
        "df_cat.show()\n"
      ],
      "metadata": {
        "colab": {
          "base_uri": "https://localhost:8080/"
        },
        "id": "qZzl8m-3OSfd",
        "outputId": "35e4c08b-ed00-434e-acd6-462a2c1f8f7f"
      },
      "execution_count": 26,
      "outputs": [
        {
          "output_type": "stream",
          "name": "stdout",
          "text": [
            "Umbrales globales -> Q1=6000.00, Q2=10000.00, Q3=43000.00\n",
            "+---+---------+---------------+----+---------+----------+-----------+---------------------+----------------------+----------------------+-----------------------+----------------+-----------------+--------------------+---------------------+\n",
            "| ID|   Origen|        Destino| Año|    Razón|PIB_Origen|PIB_Destino|Tasa_Desempleo_Origen|Tasa_Desempleo_Destino|Nivel_Educativo_Origen|Nivel_Educativo_Destino|Población_Origen|Población_Destino|PIB_Origen_categoria|PIB_Destino_categoria|\n",
            "+---+---------+---------------+----+---------+----------+-----------+---------------------+----------------------+----------------------+-----------------------+----------------+-----------------+--------------------+---------------------+\n",
            "|  1|   México|           EEUU|2015|Económica|      8900|      62000|                  5.2|                   3.8|                   8.5|                   12.3|       125000000|        331000000|          Medio Bajo|                 Alto|\n",
            "|  2|    Siria|       Alemania|2016|Conflicto|      2500|      45000|                 15.4|                   4.5|                   6.2|                   14.1|        18000000|         83000000|                Bajo|                 Alto|\n",
            "|  3|Venezuela|       Colombia|2017| Política|      6000|      15000|                 14.8|                  10.1|                   9.3|                   11.0|        28000000|         50000000|                Bajo|           Medio Alto|\n",
            "|  4|    India|Emiratos Árabes|2018|  Laboral|      2200|      43000|                  7.2|                   1.8|                   7.8|                   13.0|      1380000000|          9800000|                Bajo|           Medio Alto|\n",
            "|  5|Argentina|         España|2019|Económica|     10000|      34000|                  9.5|                  13.2|                  11.5|                   13.8|        45000000|         47000000|          Medio Bajo|           Medio Alto|\n",
            "+---+---------+---------------+----+---------+----------+-----------+---------------------+----------------------+----------------------+-----------------------+----------------+-----------------+--------------------+---------------------+\n",
            "\n"
          ]
        }
      ]
    },
    {
      "cell_type": "code",
      "source": [
        "\n",
        "# ==========================================================\n",
        "# 1) RDDs: transformaciones (filter, map, flatMap) + acciones\n",
        "# ==========================================================\n",
        "# Partimos de un RDD con Origen, Destino y Razón\n",
        "rdd = df_cat.select(\"Origen\", \"Destino\", \"Razón\").rdd\n",
        "\n",
        "# filter: descartar registros nulos y rutas Origen==Destino\n",
        "rdd_filtrado = rdd.filter(lambda r: r[0] and r[1] and (r[0] != r[1]))\n",
        "\n",
        "# map: construir una cadena \"origen->destino\" en minúsculas\n",
        "rdd_rutas = rdd_filtrado.map(lambda r: f\"{str(r[0]).strip().lower()}->{str(r[1]).strip().lower()}\")\n",
        "\n",
        "# flatMap: tokenizar la columna Razón en múltiples tokens (separadores: , ; / y)\n",
        "splitter = re.compile(r\"[,\\;/]| y \")\n",
        "rdd_tokens = rdd_filtrado.flatMap(\n",
        "    lambda r: [t.strip().lower() for t in (splitter.split(r[2]) if r[2] else []) if t.strip()]\n",
        ")\n",
        "\n",
        "# Acciones: count, take, collect (usa collect con cuidado si hay muchos datos)\n",
        "print(\"=== Acciones RDD ===\")\n",
        "print(\"count(rutas):\", rdd_rutas.count())\n",
        "print(\"take(rutas, 5):\", rdd_rutas.take(5))\n",
        "print(\"take(tokens, 20):\", rdd_tokens.take(20))\n",
        "# tokens_all = rdd_tokens.collect()  # evitar en datasets grandes\n"
      ],
      "metadata": {
        "colab": {
          "base_uri": "https://localhost:8080/"
        },
        "id": "S6GZVpLcbmOc",
        "outputId": "ab798b61-c536-46b5-85a7-ab9a91f66263"
      },
      "execution_count": 27,
      "outputs": [
        {
          "output_type": "stream",
          "name": "stdout",
          "text": [
            "=== Acciones RDD ===\n",
            "count(rutas): 5\n",
            "take(rutas, 5): ['méxico->eeuu', 'siria->alemania', 'venezuela->colombia', 'india->emiratos árabes', 'argentina->españa']\n",
            "take(tokens, 20): ['económica', 'conflicto', 'política', 'laboral', 'económica']\n"
          ]
        }
      ]
    },
    {
      "cell_type": "code",
      "source": [
        "\n",
        "# =======================================================\n",
        "# 4. DataFrames: filtrado, agregaciones y ordenamiento\n",
        "# =======================================================\n",
        "# Filtro: registros válidos a partir de 2015 con Origen y Destino no nulos\n",
        "df_filtrado = (\n",
        "    df_cat.filter(F.col(\"Origen\").isNotNull() & F.col(\"Destino\").isNotNull())\n",
        "      .filter(F.col(\"Año\") >= 2015)\n",
        ")\n",
        "\n",
        "# Agregaciones: por Origen, Destino y categorías de PIB\n",
        "agg = (\n",
        "    df_filtrado.groupBy( \"PIB_Origen_categoria\")\n",
        "               .agg(\n",
        "                   F.count(\"*\").alias(\"registros\"),\n",
        "                   F.avg(\"PIB_Origen\").alias(\"PIB_Origen_prom\"),\n",
        "                   F.avg(\"PIB_Destino\").alias(\"PIB_Destino_prom\")\n",
        "               )\n",
        ")\n",
        "\n",
        "\n",
        "agg2 = (\n",
        "    df_filtrado.groupBy( \"PIB_Destino_categoria\")\n",
        "               .agg(\n",
        "                   F.count(\"*\").alias(\"registros\"),\n",
        "                   F.avg(\"PIB_Origen\").alias(\"PIB_Origen_prom\"),\n",
        "                   F.avg(\"PIB_Destino\").alias(\"PIB_Destino_prom\")\n",
        "               )\n",
        ")\n",
        "\n",
        "# Ordenamiento: primero por número de registros y luego por PIB_Destino promedio\n",
        "agg_ordenado = agg.orderBy(F.col(\"registros\").desc(), F.col(\"PIB_Origen_prom\").desc())\n",
        "\n",
        "print(\"=== Agregaciones ordenadas (top 20) ===\")\n",
        "agg_ordenado.show(20, truncate=False)\n",
        "\n",
        "# Ordenamiento: primero por número de registros y luego por PIB_Destino promedio\n",
        "agg_ordenado2 = agg2.orderBy(F.col(\"registros\").desc(), F.col(\"PIB_Destino_prom\").desc())\n",
        "\n",
        "print(\"=== Agregaciones ordenadas (top 20) ===\")\n",
        "agg_ordenado2.show(20, truncate=False)\n"
      ],
      "metadata": {
        "colab": {
          "base_uri": "https://localhost:8080/"
        },
        "id": "fGLJ7AHEee7u",
        "outputId": "228d4ef3-6f61-4a8f-f5a1-927d80ee930d"
      },
      "execution_count": 28,
      "outputs": [
        {
          "output_type": "stream",
          "name": "stdout",
          "text": [
            "=== Agregaciones ordenadas (top 20) ===\n",
            "+--------------------+---------+------------------+------------------+\n",
            "|PIB_Origen_categoria|registros|PIB_Origen_prom   |PIB_Destino_prom  |\n",
            "+--------------------+---------+------------------+------------------+\n",
            "|Bajo                |3        |3566.6666666666665|34333.333333333336|\n",
            "|Medio Bajo          |2        |9450.0            |48000.0           |\n",
            "+--------------------+---------+------------------+------------------+\n",
            "\n",
            "=== Agregaciones ordenadas (top 20) ===\n",
            "+---------------------+---------+-----------------+------------------+\n",
            "|PIB_Destino_categoria|registros|PIB_Origen_prom  |PIB_Destino_prom  |\n",
            "+---------------------+---------+-----------------+------------------+\n",
            "|Medio Alto           |3        |6066.666666666667|30666.666666666668|\n",
            "|Alto                 |2        |5700.0           |53500.0           |\n",
            "+---------------------+---------+-----------------+------------------+\n",
            "\n"
          ]
        }
      ]
    },
    {
      "cell_type": "code",
      "source": [
        "# ===================================\n",
        "# 5. Escritura de resultados a Parquet\n",
        "# ===================================\n",
        "# 3.1) Agregaciones\n",
        "agg_ordenado.write.mode(\"overwrite\").parquet(\"/salida2/agg_PIBorigenes.parquet\")\n",
        "agg_ordenado2.write.mode(\"overwrite\").parquet(\"/salida2/agg_PIBdestinos.parquet\")\n",
        "\n",
        "# 3.2) Tokens de razones (convertimos RDD -> DataFrame para poder escribir)\n",
        "df_tokens = spark.createDataFrame(rdd_tokens.map(lambda x: (x,)), [\"razon_token\"])\n",
        "df_tokens.write.mode(\"overwrite\").parquet(\"/salida2/razones_tokens.parquet\")\n",
        "\n",
        "# 3.3) Rutas únicas (RDD -> DataFrame)\n",
        "df_rutas = spark.createDataFrame(rdd_rutas.distinct().map(lambda x: (x,)), [\"ruta\"])\n",
        "df_rutas.write.mode(\"overwrite\").parquet(\"/salida2/rutas.parquet\")\n",
        "\n",
        "print(\"Parquet escritos en: salida/ (agg_rutas.parquet, razones_tokens.parquet, rutas.parquet)\")\n",
        "\n"
      ],
      "metadata": {
        "colab": {
          "base_uri": "https://localhost:8080/"
        },
        "id": "xDE84tglgqGQ",
        "outputId": "a635f80b-7967-41de-e5b0-a5452ff0f14a"
      },
      "execution_count": 29,
      "outputs": [
        {
          "output_type": "stream",
          "name": "stdout",
          "text": [
            "Parquet escritos en: salida/ (agg_rutas.parquet, razones_tokens.parquet, rutas.parquet)\n"
          ]
        }
      ]
    },
    {
      "cell_type": "code",
      "source": [
        "# ====================================================\n",
        "# 6. SparkSQL\n",
        "# ====================================================\n",
        "\n",
        "# ====================================================\n",
        "# Registrar el DataFrame como tabla temporal (SQL)\n",
        "# ====================================================\n",
        "df_cat.show()\n",
        "df_cat.createOrReplaceTempView(\"migraciones\")\n",
        "\n",
        "# ==========================================================\n",
        "# Consultas: principales países de ORIGEN y de DESTINO\n",
        "# ==========================================================\n",
        "\n",
        "print(\"=== Top 2 países de ORIGEN ===\")\n",
        "spark.sql(\"\"\"\n",
        "    SELECT Origen AS origen, COUNT(*) AS conteo\n",
        "    FROM migraciones\n",
        "    WHERE Origen IS NOT NULL\n",
        "    GROUP BY Origen\n",
        "    ORDER BY conteo DESC\n",
        "    LIMIT 2\n",
        "\"\"\").show(truncate=False)\n",
        "\n",
        "print(\"=== Top 2 países de DESTINO ===\")\n",
        "spark.sql(\"\"\"\n",
        "    SELECT Destino AS destino, COUNT(*) AS conteo\n",
        "    FROM migraciones\n",
        "    WHERE Destino IS NOT NULL\n",
        "    GROUP BY Destino\n",
        "    ORDER BY conteo DESC\n",
        "    LIMIT 2\n",
        "\"\"\").show(truncate=False)\n",
        "\n",
        "\n",
        "df = df.withColumn(\n",
        "    \"razon_bin\",\n",
        "    F.when(F.col(\"Razón\") == F.lit(\"Económica\"), F.lit(1)).otherwise(F.lit(0))\n",
        ")\n",
        "feature_cols = [\n",
        "    \"PIB_Origen\",\"PIB_Destino\",\n",
        "    \"Tasa_Desempleo_Origen\",\"Tasa_Desempleo_Destino\",\n",
        "    \"Nivel_Educativo_Origen\",\"Nivel_Educativo_Destino\",\n",
        "    \"Población_Origen\",\"Población_Destino\"\n",
        "]\n",
        "\n",
        "assembler = VectorAssembler(inputCols=feature_cols, outputCol=\"features\")\n",
        "df_ass = assembler.transform(df)\n",
        "\n",
        "df_ass = df_ass.select(\"PIB_Origen\",\"PIB_Destino\",\"features\", \"razon_bin\")\n",
        "\n",
        "df_ass.show()\n"
      ],
      "metadata": {
        "colab": {
          "base_uri": "https://localhost:8080/"
        },
        "id": "V8OLt0bLiQMM",
        "outputId": "4f57f9b8-b832-42a8-d87d-2479848880e2"
      },
      "execution_count": 32,
      "outputs": [
        {
          "output_type": "stream",
          "name": "stdout",
          "text": [
            "+---+---------+---------------+----+---------+----------+-----------+---------------------+----------------------+----------------------+-----------------------+----------------+-----------------+--------------------+---------------------+\n",
            "| ID|   Origen|        Destino| Año|    Razón|PIB_Origen|PIB_Destino|Tasa_Desempleo_Origen|Tasa_Desempleo_Destino|Nivel_Educativo_Origen|Nivel_Educativo_Destino|Población_Origen|Población_Destino|PIB_Origen_categoria|PIB_Destino_categoria|\n",
            "+---+---------+---------------+----+---------+----------+-----------+---------------------+----------------------+----------------------+-----------------------+----------------+-----------------+--------------------+---------------------+\n",
            "|  1|   México|           EEUU|2015|Económica|      8900|      62000|                  5.2|                   3.8|                   8.5|                   12.3|       125000000|        331000000|          Medio Bajo|                 Alto|\n",
            "|  2|    Siria|       Alemania|2016|Conflicto|      2500|      45000|                 15.4|                   4.5|                   6.2|                   14.1|        18000000|         83000000|                Bajo|                 Alto|\n",
            "|  3|Venezuela|       Colombia|2017| Política|      6000|      15000|                 14.8|                  10.1|                   9.3|                   11.0|        28000000|         50000000|                Bajo|           Medio Alto|\n",
            "|  4|    India|Emiratos Árabes|2018|  Laboral|      2200|      43000|                  7.2|                   1.8|                   7.8|                   13.0|      1380000000|          9800000|                Bajo|           Medio Alto|\n",
            "|  5|Argentina|         España|2019|Económica|     10000|      34000|                  9.5|                  13.2|                  11.5|                   13.8|        45000000|         47000000|          Medio Bajo|           Medio Alto|\n",
            "+---+---------+---------------+----+---------+----------+-----------+---------------------+----------------------+----------------------+-----------------------+----------------+-----------------+--------------------+---------------------+\n",
            "\n",
            "=== Top 2 países de ORIGEN ===\n",
            "+---------+------+\n",
            "|origen   |conteo|\n",
            "+---------+------+\n",
            "|Argentina|1     |\n",
            "|Siria    |1     |\n",
            "+---------+------+\n",
            "\n",
            "=== Top 2 países de DESTINO ===\n",
            "+---------------+------+\n",
            "|destino        |conteo|\n",
            "+---------------+------+\n",
            "|España         |1     |\n",
            "|Emiratos Árabes|1     |\n",
            "+---------------+------+\n",
            "\n",
            "+----------+-----------+--------------------+---------+\n",
            "|PIB_Origen|PIB_Destino|            features|razon_bin|\n",
            "+----------+-----------+--------------------+---------+\n",
            "|      8900|      62000|[8900.0,62000.0,5...|        1|\n",
            "|      2500|      45000|[2500.0,45000.0,1...|        0|\n",
            "|      6000|      15000|[6000.0,15000.0,1...|        0|\n",
            "|      2200|      43000|[2200.0,43000.0,7...|        0|\n",
            "|     10000|      34000|[10000.0,34000.0,...|        1|\n",
            "+----------+-----------+--------------------+---------+\n",
            "\n"
          ]
        }
      ]
    },
    {
      "cell_type": "code",
      "source": [
        "# Join de Dataframe\n",
        "df_ml = df_cat.join(df_ass, on=[\"PIB_Origen\", \"PIB_Destino\"], how=\"inner\")\n",
        "train, test = df_ml.randomSplit([0.6, 0.4], seed=42)"
      ],
      "metadata": {
        "id": "xNgmNTmS2O1c"
      },
      "execution_count": null,
      "outputs": []
    },
    {
      "cell_type": "code",
      "source": [
        "# ====================================================\n",
        "# 7. MLlib\n",
        "# ====================================================\n",
        "\n",
        "#================================\n",
        "# Modelo de Regresión Logística\n",
        "#================================\n",
        "\n",
        "lr = LogisticRegression(labelCol=\"razon_bin\", featuresCol=\"features\", maxIter=50)\n",
        "model = lr.fit(train)\n",
        "\n",
        "# Predicciones\n",
        "predictions = model.transform(test)\n",
        "\n",
        "# Precisión (Accuracy), igual que en tu ejemplo\n",
        "evaluator = MulticlassClassificationEvaluator(\n",
        "    labelCol=\"razon_bin\", predictionCol=\"prediction\", metricName=\"accuracy\"\n",
        ")\n",
        "accuracy = evaluator.evaluate(predictions)\n",
        "print(f\"Precisión del modelo: {accuracy:.2f}\")\n",
        "\n",
        "# (Opcional) AUC-ROC para complementar\n",
        "auc_eval = BinaryClassificationEvaluator(\n",
        "    labelCol=\"razon_bin\", rawPredictionCol=\"rawPrediction\", metricName=\"areaUnderROC\"\n",
        ")\n",
        "auc = auc_eval.evaluate(predictions)\n",
        "print(f\"AUC ROC: {auc:.3f}\")"
      ],
      "metadata": {
        "colab": {
          "base_uri": "https://localhost:8080/"
        },
        "id": "m2S43mtS2Gfk",
        "outputId": "65ffd7dc-2531-41c0-a65d-2204e5ca4908"
      },
      "execution_count": 50,
      "outputs": [
        {
          "output_type": "stream",
          "name": "stdout",
          "text": [
            "Precisión del modelo: 0.33\n",
            "AUC ROC: 0.000\n"
          ]
        }
      ]
    },
    {
      "cell_type": "code",
      "source": [
        "\n",
        "# 1) Curva ROC (usa el summary sobre el set de test)\n",
        "summary = model.evaluate(test)  # BinaryLogisticRegressionSummary\n",
        "\n",
        "roc_pdf = summary.roc.toPandas()\n",
        "auc_roc = summary.areaUnderROC\n",
        "\n",
        "plt.figure()\n",
        "plt.plot(roc_pdf[\"FPR\"], roc_pdf[\"TPR\"])\n",
        "plt.plot([0, 1], [0, 1], linestyle=\"--\")\n",
        "plt.xlabel(\"FPR (False Positive Rate)\")\n",
        "plt.ylabel(\"TPR (True Positive Rate)\")\n",
        "plt.title(f\"ROC (test) – AUC={auc_roc:.3f}\")\n",
        "plt.grid(True)\n",
        "plt.show()\n",
        "\n",
        "# 2) Curva Precision–Recall\n",
        "pr_pdf = summary.pr.toPandas()\n",
        "\n",
        "plt.figure()\n",
        "plt.plot(pr_pdf[\"recall\"], pr_pdf[\"precision\"])\n",
        "plt.xlabel(\"Recall\")\n",
        "plt.ylabel(\"Precision\")\n",
        "plt.title(\"Precision–Recall (test)\")\n",
        "plt.grid(True)\n",
        "plt.show()\n"
      ],
      "metadata": {
        "colab": {
          "base_uri": "https://localhost:8080/",
          "height": 927
        },
        "id": "KsLGs6V15MLA",
        "outputId": "ed69c9b1-79e5-4219-fabf-4e118904a33f"
      },
      "execution_count": 51,
      "outputs": [
        {
          "output_type": "display_data",
          "data": {
            "text/plain": [
              "<Figure size 640x480 with 1 Axes>"
            ],
            "image/png": "[encoded data removed]"
          },
          "metadata": {}
        },
        {
          "output_type": "display_data",
          "data": {
            "text/plain": [
              "<Figure size 640x480 with 1 Axes>"
            ],
            "image/png": "[encoded data removed]"
          },
          "metadata": {}
        }
      ]
    },
    {
      "cell_type": "markdown",
      "source": [
        "El Modelo de regresion tiene una precision muy baja, por lo que se evaluó con DecisionTree, que presenta un mejor valor.\n",
        "De cualquier modo, para hacer un buen análisis y formular predicciones de este tipo, me parece se requieren mas datos."
      ],
      "metadata": {
        "id": "FivqMepp38G0"
      }
    }
  ]
}